{
  "cells": [
    {
      "cell_type": "markdown",
      "metadata": {
        "id": "view-in-github",
        "colab_type": "text"
      },
      "source": [
        "<a href=\"https://colab.research.google.com/github/shravs45/Machine-Learning/blob/Binary-Classification-Problem/Disputed_OR_not.ipynb\" target=\"_parent\"><img src=\"https://colab.research.google.com/assets/colab-badge.svg\" alt=\"Open In Colab\"/></a>"
      ]
    },
    {
      "cell_type": "code",
      "execution_count": 88,
      "metadata": {
        "id": "cRG7_TVzwudw"
      },
      "outputs": [],
      "source": [
        "import pandas as pd\n",
        "import time\n",
        "import datetime\n",
        "import numpy as np\n",
        "import matplotlib.pyplot as plt\n",
        "\n",
        "import missingno as msno\n",
        "\n",
        "from sklearn.preprocessing import LabelEncoder\n",
        "from sklearn.preprocessing import MinMaxScaler,StandardScaler\n",
        "\n",
        "from sklearn.model_selection import train_test_split\n",
        "from sklearn.model_selection import cross_val_score\n",
        "from sklearn.model_selection import GridSearchCV\n",
        "\n",
        "\n",
        "from sklearn.linear_model import LogisticRegression \n",
        "from sklearn.tree import DecisionTreeClassifier\n",
        "from sklearn.naive_bayes import MultinomialNB\n",
        "from sklearn.svm import LinearSVC\n",
        "from sklearn.svm import SVC\n",
        "from sklearn.neighbors import KNeighborsClassifier\n",
        "from sklearn.naive_bayes import GaussianNB\n",
        "from sklearn.ensemble import RandomForestClassifier \n",
        "\n",
        "from sklearn.model_selection import KFold\n",
        "from sklearn.metrics import accuracy_score,balanced_accuracy_score\n",
        "from sklearn.metrics import classification_report\n",
        "from sklearn.metrics import confusion_matrix\n",
        "from sklearn.metrics import plot_confusion_matrix\n",
        "from sklearn.metrics import precision_recall_fscore_support as score\n",
        "from sklearn import metrics\n",
        "from sklearn.metrics import make_scorer\n",
        "from sklearn.metrics import recall_score\n",
        "\n",
        "from imblearn.pipeline import Pipeline\n",
        "from imblearn.over_sampling import SMOTE\n",
        "from imblearn.under_sampling import RandomUnderSampler\n",
        "from imblearn.pipeline import Pipeline, make_pipeline"
      ]
    },
    {
      "cell_type": "code",
      "execution_count": 4,
      "metadata": {
        "id": "pjz9qojIw2FV"
      },
      "outputs": [],
      "source": [
        "def load_data(filepath):\n",
        "  df = pd.read_csv(filepath)  \n",
        "  return df"
      ]
    },
    {
      "cell_type": "code",
      "execution_count": 5,
      "metadata": {
        "id": "ge-8rpxRARx8"
      },
      "outputs": [],
      "source": [
        "def week_number_of_the_month(strdt):\n",
        "  # splitting input text using separator '-'\n",
        "  year,month,day=strdt.split('-')\n",
        "  # get date for given strdt from datetime module \n",
        "  dt=datetime.datetime(int(year),int(month),int(day)).date()\n",
        "  # get week number for the given date with respect to month\n",
        "  weeknumber=(dt.isocalendar()[1]-dt.replace(day=1).isocalendar()[1])+1\n",
        "  return weeknumber"
      ]
    },
    {
      "cell_type": "code",
      "execution_count": 6,
      "metadata": {
        "id": "ckonN2MLDwmq"
      },
      "outputs": [],
      "source": [
        "def StateImpute(df):\n",
        "  val=df['State'].mode()  \n",
        "  df['State'].fillna(val.values[0], inplace = True)"
      ]
    },
    {
      "cell_type": "code",
      "execution_count": 7,
      "metadata": {
        "id": "rqnCxmT8EWnS"
      },
      "outputs": [],
      "source": [
        "def Month_Year_WeekDay(df):\n",
        "  #df['Month']= df['Date received'].map(lambda x: pd.to_datetime(x).month)\n",
        "  # Assign Year from Date received column in DataFrame\n",
        "  #df['Year']= df['Date received'].map(lambda x: pd.to_datetime(x).year)\n",
        "  # Assign Weekday from Date received column in DataFrame\n",
        "  df['Day_of_Week']=df['Date received'].map(lambda x: datetime.datetime(pd.to_datetime(x).year,pd.to_datetime(x).month,pd.to_datetime(x).day).strftime('%w'))\n",
        "  df['Day_of_Week']=df['Day_of_Week'].astype(int)\n",
        "  # Assign Week of the month from Date received column in DataFrame\n",
        "  #new_train_df['Complaint Received Week']=new_train_df['Date received'].apply(week_number_of_the_month\n",
        "  #Number of days between receiving complaint by CFPB and sending it to company\n",
        "  #new_train_df['No of days between receiving and sending complaints']=pd.to_datetime(new_train_df['Date sent to company'])-pd.to_datetime(new_train_df['Date received'])\n",
        "  #new_train_df['No of days between receiving and sending complaints']=new_train_df['No of days between receiving and sending complaints'].map(lambda x: np.nan if pd.isnull(x) else x.days)\n",
        "  df.drop(['Date received','Date sent to company'],axis=1,inplace=True)"
      ]
    },
    {
      "cell_type": "code",
      "execution_count": 8,
      "metadata": {
        "id": "BgW8zRWMtE-D"
      },
      "outputs": [],
      "source": [
        "def splitdata(X,y):\n",
        "  X_train,X_test,y_train,y_test=train_test_split(X,y,test_size=0.2,stratify=y,random_state=42)\n",
        "  return X_train,X_test,y_train,y_test"
      ]
    },
    {
      "cell_type": "code",
      "execution_count": 9,
      "metadata": {
        "id": "qMBuJ1m7tZnv"
      },
      "outputs": [],
      "source": [
        "def Scaling(X):\n",
        "  X_train=StandardScaler().fit_transform(X)\n",
        "  return X_train"
      ]
    },
    {
      "cell_type": "code",
      "execution_count": 10,
      "metadata": {
        "id": "mHNwT1nWlKiu"
      },
      "outputs": [],
      "source": [
        "def encode(df,col,max_val):\n",
        "  df[col+' sin']=np.sin(2*np.pi*df[col]/max_val)\n",
        "  df[col+' cos']=np.cos(2*np.pi*df[col]/max_val)\n",
        "  return df"
      ]
    },
    {
      "cell_type": "code",
      "execution_count": 11,
      "metadata": {
        "id": "xXBufOBiv321"
      },
      "outputs": [],
      "source": [
        "def mapTargetVariable(df,col):\n",
        "  df[col]=df[col].map({'No':0,'Yes':1})"
      ]
    },
    {
      "cell_type": "markdown",
      "metadata": {
        "id": "U53Ajx5SAn2h"
      },
      "source": [
        "**Additive Smoothing**"
      ]
    },
    {
      "cell_type": "code",
      "execution_count": 12,
      "metadata": {
        "id": "zx-6iFvNFfRa"
      },
      "outputs": [],
      "source": [
        "def calc_smooth_mean(df, by, on, m):\n",
        "    # Compute the global mean\n",
        "    mean = df[on].mean()\n",
        "\n",
        "    # Compute the number of values and the mean of each group\n",
        "    agg = df.groupby(by)[on].agg(['count', 'mean'])\n",
        "    counts = agg['count']\n",
        "    means = agg['mean']\n",
        "\n",
        "    # Compute the \"smoothed\" means\n",
        "    \n",
        "    smooth = (counts * means + m * mean) / (counts + m)\n",
        "\n",
        "    # Replace each value by the according smoothed mean\n",
        "    #return df[by].map(smooth)\n",
        "    return smooth"
      ]
    },
    {
      "cell_type": "code",
      "execution_count": 13,
      "metadata": {
        "id": "IL2EyPBgBLNB"
      },
      "outputs": [],
      "source": [
        "def impute(df):\n",
        "  df.fillna('UNKNOWN',axis=1,inplace=True)"
      ]
    },
    {
      "cell_type": "code",
      "execution_count": 14,
      "metadata": {
        "id": "kcHixzQ_BDX3"
      },
      "outputs": [],
      "source": [
        "def dropcols(df,cols_arr):\n",
        "  df.drop(cols_arr,axis=1,inplace=True)"
      ]
    },
    {
      "cell_type": "code",
      "execution_count": 15,
      "metadata": {
        "id": "sQiGHTryBQeJ"
      },
      "outputs": [],
      "source": [
        "def featurecross(df):\n",
        "  df['Combined Products']=df['Product']+df['Sub-product']\n",
        "  df['Combined Issue']=df['Issue']+df['Sub-issue']\n",
        "  #df['Company_State']=df['Company']+' '+df['State']\n",
        "  df['Company_Response']=df['Company response to consumer']+' '+df['Timely response?']"
      ]
    },
    {
      "cell_type": "code",
      "execution_count": 16,
      "metadata": {
        "id": "6RGsAhazBVUe"
      },
      "outputs": [],
      "source": [
        "def binning(df,col):\n",
        "  df_value_counts=df[col].value_counts().reset_index()\n",
        "  df_value_counts[df_value_counts[col]<=300][col].sum()\n",
        "  df[col]=df[col].replace([df_value_counts[df_value_counts[col]<=300]['index']],'Others')"
      ]
    },
    {
      "cell_type": "code",
      "execution_count": 17,
      "metadata": {
        "id": "fBmJy-E9PWQt"
      },
      "outputs": [],
      "source": [
        "def Target_Encoding_after_FeatureCross(df):\n",
        "  df['Combined Products']=df['Combined Products'].map(smoothed_products)\n",
        "  df['Combined Issue']=df['Combined Issue'].map(smoothed_Issue)\n",
        "  df['Company']=df['Company'].map(smoothed_Company)\n",
        "  df['State']=df['State'].map(smoothed_State)\n",
        "  df['Company_Response']=df['Company_Response'].map(smoothed_Response)\n",
        "  df['Consumer consent provided?']=df['Consumer consent provided?'].map(smoothed_Consent)\n",
        "  df['Submitted via']=df['Submitted via'].map(smoothed_submitted)\n",
        "  df['Tags']=df['Tags'].map(smoothed_tags)"
      ]
    },
    {
      "cell_type": "code",
      "execution_count": 18,
      "metadata": {
        "id": "VbiU7phgvcV0"
      },
      "outputs": [],
      "source": [
        "train_df=load_data('/content/drive/MyDrive/Colab Notebooks/Project 1/Edureka_Consumer_Complaints_train.csv')\n",
        "test_df=load_data('/content/drive/MyDrive/Colab Notebooks/Project 1/Edureka_Consumer_Complaints_test.csv')"
      ]
    },
    {
      "cell_type": "code",
      "execution_count": null,
      "metadata": {
        "colab": {
          "base_uri": "https://localhost:8080/"
        },
        "id": "mrUzcCNbytQu",
        "outputId": "4ebae94f-2134-436e-e30a-4416f79a18a4"
      },
      "outputs": [
        {
          "name": "stdout",
          "output_type": "stream",
          "text": [
            "(358810, 18) (119606, 17)\n"
          ]
        }
      ],
      "source": [
        "print(train_df.shape,test_df.shape)"
      ]
    },
    {
      "cell_type": "code",
      "execution_count": null,
      "metadata": {
        "colab": {
          "base_uri": "https://localhost:8080/",
          "height": 613
        },
        "id": "dV_-Nr_8xNxw",
        "outputId": "7354a779-94ce-415b-c29d-3f9842d3f789"
      },
      "outputs": [
        {
          "data": {
            "text/html": [
              "<style  type=\"text/css\" >\n",
              "</style><table id=\"T_4302c216_6c64_11ec_8e56_0242ac1c0002\" class=\"dataframe\"><thead>    <tr>        <th class=\"blank level0\" ></th>        <th class=\"col_heading level0 col0\" >Column Names</th>        <th class=\"col_heading level0 col1\" >Missing Data Percentage</th>    </tr></thead><tbody>\n",
              "                <tr>\n",
              "                        <th id=\"T_4302c216_6c64_11ec_8e56_0242ac1c0002level0_row0\" class=\"row_heading level0 row0\" >0</th>\n",
              "                        <td id=\"T_4302c216_6c64_11ec_8e56_0242ac1c0002row0_col0\" class=\"data row0 col0\" >Date received</td>\n",
              "                        <td id=\"T_4302c216_6c64_11ec_8e56_0242ac1c0002row0_col1\" class=\"data row0 col1\" >0.00%</td>\n",
              "            </tr>\n",
              "            <tr>\n",
              "                        <th id=\"T_4302c216_6c64_11ec_8e56_0242ac1c0002level0_row1\" class=\"row_heading level0 row1\" >1</th>\n",
              "                        <td id=\"T_4302c216_6c64_11ec_8e56_0242ac1c0002row1_col0\" class=\"data row1 col0\" >Product</td>\n",
              "                        <td id=\"T_4302c216_6c64_11ec_8e56_0242ac1c0002row1_col1\" class=\"data row1 col1\" >0.00%</td>\n",
              "            </tr>\n",
              "            <tr>\n",
              "                        <th id=\"T_4302c216_6c64_11ec_8e56_0242ac1c0002level0_row2\" class=\"row_heading level0 row2\" >2</th>\n",
              "                        <td id=\"T_4302c216_6c64_11ec_8e56_0242ac1c0002row2_col0\" class=\"data row2 col0\" >Sub-product</td>\n",
              "                        <td id=\"T_4302c216_6c64_11ec_8e56_0242ac1c0002row2_col1\" class=\"data row2 col1\" >28.93%</td>\n",
              "            </tr>\n",
              "            <tr>\n",
              "                        <th id=\"T_4302c216_6c64_11ec_8e56_0242ac1c0002level0_row3\" class=\"row_heading level0 row3\" >3</th>\n",
              "                        <td id=\"T_4302c216_6c64_11ec_8e56_0242ac1c0002row3_col0\" class=\"data row3 col0\" >Issue</td>\n",
              "                        <td id=\"T_4302c216_6c64_11ec_8e56_0242ac1c0002row3_col1\" class=\"data row3 col1\" >0.00%</td>\n",
              "            </tr>\n",
              "            <tr>\n",
              "                        <th id=\"T_4302c216_6c64_11ec_8e56_0242ac1c0002level0_row4\" class=\"row_heading level0 row4\" >4</th>\n",
              "                        <td id=\"T_4302c216_6c64_11ec_8e56_0242ac1c0002row4_col0\" class=\"data row4 col0\" >Sub-issue</td>\n",
              "                        <td id=\"T_4302c216_6c64_11ec_8e56_0242ac1c0002row4_col1\" class=\"data row4 col1\" >61.14%</td>\n",
              "            </tr>\n",
              "            <tr>\n",
              "                        <th id=\"T_4302c216_6c64_11ec_8e56_0242ac1c0002level0_row5\" class=\"row_heading level0 row5\" >5</th>\n",
              "                        <td id=\"T_4302c216_6c64_11ec_8e56_0242ac1c0002row5_col0\" class=\"data row5 col0\" >Consumer complaint narrative</td>\n",
              "                        <td id=\"T_4302c216_6c64_11ec_8e56_0242ac1c0002row5_col1\" class=\"data row5 col1\" >84.34%</td>\n",
              "            </tr>\n",
              "            <tr>\n",
              "                        <th id=\"T_4302c216_6c64_11ec_8e56_0242ac1c0002level0_row6\" class=\"row_heading level0 row6\" >6</th>\n",
              "                        <td id=\"T_4302c216_6c64_11ec_8e56_0242ac1c0002row6_col0\" class=\"data row6 col0\" >Company public response</td>\n",
              "                        <td id=\"T_4302c216_6c64_11ec_8e56_0242ac1c0002row6_col1\" class=\"data row6 col1\" >81.07%</td>\n",
              "            </tr>\n",
              "            <tr>\n",
              "                        <th id=\"T_4302c216_6c64_11ec_8e56_0242ac1c0002level0_row7\" class=\"row_heading level0 row7\" >7</th>\n",
              "                        <td id=\"T_4302c216_6c64_11ec_8e56_0242ac1c0002row7_col0\" class=\"data row7 col0\" >Company</td>\n",
              "                        <td id=\"T_4302c216_6c64_11ec_8e56_0242ac1c0002row7_col1\" class=\"data row7 col1\" >0.00%</td>\n",
              "            </tr>\n",
              "            <tr>\n",
              "                        <th id=\"T_4302c216_6c64_11ec_8e56_0242ac1c0002level0_row8\" class=\"row_heading level0 row8\" >8</th>\n",
              "                        <td id=\"T_4302c216_6c64_11ec_8e56_0242ac1c0002row8_col0\" class=\"data row8 col0\" >State</td>\n",
              "                        <td id=\"T_4302c216_6c64_11ec_8e56_0242ac1c0002row8_col1\" class=\"data row8 col1\" >0.81%</td>\n",
              "            </tr>\n",
              "            <tr>\n",
              "                        <th id=\"T_4302c216_6c64_11ec_8e56_0242ac1c0002level0_row9\" class=\"row_heading level0 row9\" >9</th>\n",
              "                        <td id=\"T_4302c216_6c64_11ec_8e56_0242ac1c0002row9_col0\" class=\"data row9 col0\" >ZIP code</td>\n",
              "                        <td id=\"T_4302c216_6c64_11ec_8e56_0242ac1c0002row9_col1\" class=\"data row9 col1\" >0.81%</td>\n",
              "            </tr>\n",
              "            <tr>\n",
              "                        <th id=\"T_4302c216_6c64_11ec_8e56_0242ac1c0002level0_row10\" class=\"row_heading level0 row10\" >10</th>\n",
              "                        <td id=\"T_4302c216_6c64_11ec_8e56_0242ac1c0002row10_col0\" class=\"data row10 col0\" >Tags</td>\n",
              "                        <td id=\"T_4302c216_6c64_11ec_8e56_0242ac1c0002row10_col1\" class=\"data row10 col1\" >86.00%</td>\n",
              "            </tr>\n",
              "            <tr>\n",
              "                        <th id=\"T_4302c216_6c64_11ec_8e56_0242ac1c0002level0_row11\" class=\"row_heading level0 row11\" >11</th>\n",
              "                        <td id=\"T_4302c216_6c64_11ec_8e56_0242ac1c0002row11_col0\" class=\"data row11 col0\" >Consumer consent provided?</td>\n",
              "                        <td id=\"T_4302c216_6c64_11ec_8e56_0242ac1c0002row11_col1\" class=\"data row11 col1\" >71.69%</td>\n",
              "            </tr>\n",
              "            <tr>\n",
              "                        <th id=\"T_4302c216_6c64_11ec_8e56_0242ac1c0002level0_row12\" class=\"row_heading level0 row12\" >12</th>\n",
              "                        <td id=\"T_4302c216_6c64_11ec_8e56_0242ac1c0002row12_col0\" class=\"data row12 col0\" >Submitted via</td>\n",
              "                        <td id=\"T_4302c216_6c64_11ec_8e56_0242ac1c0002row12_col1\" class=\"data row12 col1\" >0.00%</td>\n",
              "            </tr>\n",
              "            <tr>\n",
              "                        <th id=\"T_4302c216_6c64_11ec_8e56_0242ac1c0002level0_row13\" class=\"row_heading level0 row13\" >13</th>\n",
              "                        <td id=\"T_4302c216_6c64_11ec_8e56_0242ac1c0002row13_col0\" class=\"data row13 col0\" >Date sent to company</td>\n",
              "                        <td id=\"T_4302c216_6c64_11ec_8e56_0242ac1c0002row13_col1\" class=\"data row13 col1\" >0.00%</td>\n",
              "            </tr>\n",
              "            <tr>\n",
              "                        <th id=\"T_4302c216_6c64_11ec_8e56_0242ac1c0002level0_row14\" class=\"row_heading level0 row14\" >14</th>\n",
              "                        <td id=\"T_4302c216_6c64_11ec_8e56_0242ac1c0002row14_col0\" class=\"data row14 col0\" >Company response to consumer</td>\n",
              "                        <td id=\"T_4302c216_6c64_11ec_8e56_0242ac1c0002row14_col1\" class=\"data row14 col1\" >0.00%</td>\n",
              "            </tr>\n",
              "            <tr>\n",
              "                        <th id=\"T_4302c216_6c64_11ec_8e56_0242ac1c0002level0_row15\" class=\"row_heading level0 row15\" >15</th>\n",
              "                        <td id=\"T_4302c216_6c64_11ec_8e56_0242ac1c0002row15_col0\" class=\"data row15 col0\" >Timely response?</td>\n",
              "                        <td id=\"T_4302c216_6c64_11ec_8e56_0242ac1c0002row15_col1\" class=\"data row15 col1\" >0.00%</td>\n",
              "            </tr>\n",
              "            <tr>\n",
              "                        <th id=\"T_4302c216_6c64_11ec_8e56_0242ac1c0002level0_row16\" class=\"row_heading level0 row16\" >16</th>\n",
              "                        <td id=\"T_4302c216_6c64_11ec_8e56_0242ac1c0002row16_col0\" class=\"data row16 col0\" >Consumer disputed?</td>\n",
              "                        <td id=\"T_4302c216_6c64_11ec_8e56_0242ac1c0002row16_col1\" class=\"data row16 col1\" >0.00%</td>\n",
              "            </tr>\n",
              "            <tr>\n",
              "                        <th id=\"T_4302c216_6c64_11ec_8e56_0242ac1c0002level0_row17\" class=\"row_heading level0 row17\" >17</th>\n",
              "                        <td id=\"T_4302c216_6c64_11ec_8e56_0242ac1c0002row17_col0\" class=\"data row17 col0\" >Complaint ID</td>\n",
              "                        <td id=\"T_4302c216_6c64_11ec_8e56_0242ac1c0002row17_col1\" class=\"data row17 col1\" >0.00%</td>\n",
              "            </tr>\n",
              "    </tbody></table>"
            ],
            "text/plain": [
              "<pandas.io.formats.style.Styler at 0x7f25819e8b50>"
            ]
          },
          "execution_count": 12,
          "metadata": {},
          "output_type": "execute_result"
        }
      ],
      "source": [
        "# to print percentage of missing values\n",
        "df = ((train_df.isnull().sum()/train_df.shape[0])).reset_index()\n",
        "df.columns=['Column Names', 'Missing Data Percentage']\n",
        "df.style.format({'Missing Data Percentage':'{:,.2%}'.format})"
      ]
    },
    {
      "cell_type": "code",
      "execution_count": null,
      "metadata": {
        "colab": {
          "base_uri": "https://localhost:8080/",
          "height": 826
        },
        "id": "nUEIEbaOi42F",
        "outputId": "06f02fca-bb37-4972-c8ab-ea407a6380a3"
      },
      "outputs": [
        {
          "data": {
            "text/plain": [
              "<matplotlib.axes._subplots.AxesSubplot at 0x7fbe75430d50>"
            ]
          },
          "execution_count": 37,
          "metadata": {},
          "output_type": "execute_result"
        },
        {
          "data": {
            "image/png": "[encoded data removed]",
            "text/plain": [
              "<Figure size 1800x720 with 2 Axes>"
            ]
          },
          "metadata": {},
          "output_type": "display_data"
        }
      ],
      "source": [
        "msno.matrix(train_df)"
      ]
    },
    {
      "cell_type": "code",
      "execution_count": null,
      "metadata": {
        "colab": {
          "base_uri": "https://localhost:8080/"
        },
        "id": "CekG8RZu1Cgy",
        "outputId": "5aaa7d90-54be-4132-fb25-e4f863757257"
      },
      "outputs": [
        {
          "data": {
            "text/plain": [
              "Date received                   object\n",
              "Product                         object\n",
              "Sub-product                     object\n",
              "Issue                           object\n",
              "Sub-issue                       object\n",
              "Consumer complaint narrative    object\n",
              "Company public response         object\n",
              "Company                         object\n",
              "State                           object\n",
              "ZIP code                        object\n",
              "Tags                            object\n",
              "Consumer consent provided?      object\n",
              "Submitted via                   object\n",
              "Date sent to company            object\n",
              "Company response to consumer    object\n",
              "Timely response?                object\n",
              "Consumer disputed?              object\n",
              "Complaint ID                     int64\n",
              "dtype: object"
            ]
          },
          "execution_count": 9,
          "metadata": {},
          "output_type": "execute_result"
        }
      ],
      "source": [
        "train_df.dtypes"
      ]
    },
    {
      "cell_type": "code",
      "execution_count": null,
      "metadata": {
        "id": "yW-BmgsMCnzm"
      },
      "outputs": [],
      "source": [
        "#To retain the original data, lets copy it into another dataframe\n",
        "new_train_df=train_df.copy()\n",
        "binning_train_df=train_df.copy()"
      ]
    },
    {
      "cell_type": "markdown",
      "metadata": {
        "id": "FuOBFWyiDFGo"
      },
      "source": [
        "**Complaint ID** is not significant predictor. <br>\n",
        "**Zipcode** column can be dropped as its similar to State column already.<br>\n",
        "**Tags** column missing more than 85% of data and it is not significant predictor<br>\n",
        "**Consumer Complaint Narrative** column can also be dropped as its free text and missing more than 80% of values\n",
        "\n",
        "We will drop above mentioned columns"
      ]
    },
    {
      "cell_type": "code",
      "execution_count": null,
      "metadata": {
        "id": "C8JE6ZAl4Xqw"
      },
      "outputs": [],
      "source": [
        "#working_train_df.drop(['Tags','Complaint ID','ZIP code','Consumer complaint narrative'],axis=1,inplace=True)\n",
        "new_train_df.drop(['Complaint ID','ZIP code','Consumer complaint narrative'],axis=1,inplace=True)\n",
        "binning_train_df.drop(['Complaint ID','ZIP code','Consumer complaint narrative'],axis=1,inplace=True)"
      ]
    },
    {
      "cell_type": "markdown",
      "metadata": {
        "id": "mdhErOv6cEJY"
      },
      "source": [
        "**Univariate Analysis**<br>\n",
        "\n",
        "**Product** Column"
      ]
    },
    {
      "cell_type": "code",
      "execution_count": null,
      "metadata": {
        "colab": {
          "base_uri": "https://localhost:8080/",
          "height": 687
        },
        "id": "Uebsp2UIV97Y",
        "outputId": "18aff961-3f0e-4f77-827b-ac6b8ca06734"
      },
      "outputs": [
        {
          "data": {
            "image/png": "[encoded data removed]",
            "text/plain": [
              "<Figure size 432x288 with 1 Axes>"
            ]
          },
          "metadata": {},
          "output_type": "display_data"
        },
        {
          "data": {
            "text/html": [
              "\n",
              "  <div id=\"df-13da076b-3a78-49d2-8aa6-86c541fed981\">\n",
              "    <div class=\"colab-df-container\">\n",
              "      <div>\n",
              "<style scoped>\n",
              "    .dataframe tbody tr th:only-of-type {\n",
              "        vertical-align: middle;\n",
              "    }\n",
              "\n",
              "    .dataframe tbody tr th {\n",
              "        vertical-align: top;\n",
              "    }\n",
              "\n",
              "    .dataframe thead th {\n",
              "        text-align: right;\n",
              "    }\n",
              "</style>\n",
              "<table border=\"1\" class=\"dataframe\">\n",
              "  <thead>\n",
              "    <tr style=\"text-align: right;\">\n",
              "      <th></th>\n",
              "      <th>Product</th>\n",
              "      <th>Issue</th>\n",
              "      <th>Percentage</th>\n",
              "    </tr>\n",
              "  </thead>\n",
              "  <tbody>\n",
              "    <tr>\n",
              "      <th>0</th>\n",
              "      <td>Bank account or service</td>\n",
              "      <td>40667</td>\n",
              "      <td>11.33%</td>\n",
              "    </tr>\n",
              "    <tr>\n",
              "      <th>1</th>\n",
              "      <td>Consumer Loan</td>\n",
              "      <td>13964</td>\n",
              "      <td>3.89%</td>\n",
              "    </tr>\n",
              "    <tr>\n",
              "      <th>2</th>\n",
              "      <td>Credit card</td>\n",
              "      <td>43114</td>\n",
              "      <td>12.02%</td>\n",
              "    </tr>\n",
              "    <tr>\n",
              "      <th>3</th>\n",
              "      <td>Credit reporting</td>\n",
              "      <td>60672</td>\n",
              "      <td>16.91%</td>\n",
              "    </tr>\n",
              "    <tr>\n",
              "      <th>4</th>\n",
              "      <td>Debt collection</td>\n",
              "      <td>65033</td>\n",
              "      <td>18.12%</td>\n",
              "    </tr>\n",
              "    <tr>\n",
              "      <th>5</th>\n",
              "      <td>Money transfers</td>\n",
              "      <td>2502</td>\n",
              "      <td>0.70%</td>\n",
              "    </tr>\n",
              "    <tr>\n",
              "      <th>6</th>\n",
              "      <td>Mortgage</td>\n",
              "      <td>117066</td>\n",
              "      <td>32.63%</td>\n",
              "    </tr>\n",
              "    <tr>\n",
              "      <th>7</th>\n",
              "      <td>Other financial service</td>\n",
              "      <td>385</td>\n",
              "      <td>0.11%</td>\n",
              "    </tr>\n",
              "    <tr>\n",
              "      <th>8</th>\n",
              "      <td>Payday loan</td>\n",
              "      <td>2425</td>\n",
              "      <td>0.68%</td>\n",
              "    </tr>\n",
              "    <tr>\n",
              "      <th>9</th>\n",
              "      <td>Prepaid card</td>\n",
              "      <td>1671</td>\n",
              "      <td>0.47%</td>\n",
              "    </tr>\n",
              "    <tr>\n",
              "      <th>10</th>\n",
              "      <td>Student loan</td>\n",
              "      <td>11306</td>\n",
              "      <td>3.15%</td>\n",
              "    </tr>\n",
              "    <tr>\n",
              "      <th>11</th>\n",
              "      <td>Virtual currency</td>\n",
              "      <td>5</td>\n",
              "      <td>0.00%</td>\n",
              "    </tr>\n",
              "  </tbody>\n",
              "</table>\n",
              "</div>\n",
              "      <button class=\"colab-df-convert\" onclick=\"convertToInteractive('df-13da076b-3a78-49d2-8aa6-86c541fed981')\"\n",
              "              title=\"Convert this dataframe to an interactive table.\"\n",
              "              style=\"display:none;\">\n",
              "        \n",
              "  <svg xmlns=\"http://www.w3.org/2000/svg\" height=\"24px\"viewBox=\"0 0 24 24\"\n",
              "       width=\"24px\">\n",
              "    <path d=\"M0 0h24v24H0V0z\" fill=\"none\"/>\n",
              "    <path d=\"M18.56 5.44l.94 2.06.94-2.06 2.06-.94-2.06-.94-.94-2.06-.94 2.06-2.06.94zm-11 1L8.5 8.5l.94-2.06 2.06-.94-2.06-.94L8.5 2.5l-.94 2.06-2.06.94zm10 10l.94 2.06.94-2.06 2.06-.94-2.06-.94-.94-2.06-.94 2.06-2.06.94z\"/><path d=\"M17.41 7.96l-1.37-1.37c-.4-.4-.92-.59-1.43-.59-.52 0-1.04.2-1.43.59L10.3 9.45l-7.72 7.72c-.78.78-.78 2.05 0 2.83L4 21.41c.39.39.9.59 1.41.59.51 0 1.02-.2 1.41-.59l7.78-7.78 2.81-2.81c.8-.78.8-2.07 0-2.86zM5.41 20L4 18.59l7.72-7.72 1.47 1.35L5.41 20z\"/>\n",
              "  </svg>\n",
              "      </button>\n",
              "      \n",
              "  <style>\n",
              "    .colab-df-container {\n",
              "      display:flex;\n",
              "      flex-wrap:wrap;\n",
              "      gap: 12px;\n",
              "    }\n",
              "\n",
              "    .colab-df-convert {\n",
              "      background-color: #E8F0FE;\n",
              "      border: none;\n",
              "      border-radius: 50%;\n",
              "      cursor: pointer;\n",
              "      display: none;\n",
              "      fill: #1967D2;\n",
              "      height: 32px;\n",
              "      padding: 0 0 0 0;\n",
              "      width: 32px;\n",
              "    }\n",
              "\n",
              "    .colab-df-convert:hover {\n",
              "      background-color: #E2EBFA;\n",
              "      box-shadow: 0px 1px 2px rgba(60, 64, 67, 0.3), 0px 1px 3px 1px rgba(60, 64, 67, 0.15);\n",
              "      fill: #174EA6;\n",
              "    }\n",
              "\n",
              "    [theme=dark] .colab-df-convert {\n",
              "      background-color: #3B4455;\n",
              "      fill: #D2E3FC;\n",
              "    }\n",
              "\n",
              "    [theme=dark] .colab-df-convert:hover {\n",
              "      background-color: #434B5C;\n",
              "      box-shadow: 0px 1px 3px 1px rgba(0, 0, 0, 0.15);\n",
              "      filter: drop-shadow(0px 1px 2px rgba(0, 0, 0, 0.3));\n",
              "      fill: #FFFFFF;\n",
              "    }\n",
              "  </style>\n",
              "\n",
              "      <script>\n",
              "        const buttonEl =\n",
              "          document.querySelector('#df-13da076b-3a78-49d2-8aa6-86c541fed981 button.colab-df-convert');\n",
              "        buttonEl.style.display =\n",
              "          google.colab.kernel.accessAllowed ? 'block' : 'none';\n",
              "\n",
              "        async function convertToInteractive(key) {\n",
              "          const element = document.querySelector('#df-13da076b-3a78-49d2-8aa6-86c541fed981');\n",
              "          const dataTable =\n",
              "            await google.colab.kernel.invokeFunction('convertToInteractive',\n",
              "                                                     [key], {});\n",
              "          if (!dataTable) return;\n",
              "\n",
              "          const docLinkHtml = 'Like what you see? Visit the ' +\n",
              "            '<a target=\"_blank\" href=https://colab.research.google.com/notebooks/data_table.ipynb>data table notebook</a>'\n",
              "            + ' to learn more about interactive tables.';\n",
              "          element.innerHTML = '';\n",
              "          dataTable['output_type'] = 'display_data';\n",
              "          await google.colab.output.renderOutput(dataTable, element);\n",
              "          const docLink = document.createElement('div');\n",
              "          docLink.innerHTML = docLinkHtml;\n",
              "          element.appendChild(docLink);\n",
              "        }\n",
              "      </script>\n",
              "    </div>\n",
              "  </div>\n",
              "  "
            ],
            "text/plain": [
              "                    Product   Issue Percentage\n",
              "0   Bank account or service   40667     11.33%\n",
              "1             Consumer Loan   13964      3.89%\n",
              "2               Credit card   43114     12.02%\n",
              "3          Credit reporting   60672     16.91%\n",
              "4           Debt collection   65033     18.12%\n",
              "5           Money transfers    2502      0.70%\n",
              "6                  Mortgage  117066     32.63%\n",
              "7   Other financial service     385      0.11%\n",
              "8               Payday loan    2425      0.68%\n",
              "9              Prepaid card    1671      0.47%\n",
              "10             Student loan   11306      3.15%\n",
              "11         Virtual currency       5      0.00%"
            ]
          },
          "execution_count": 109,
          "metadata": {},
          "output_type": "execute_result"
        }
      ],
      "source": [
        "cat=new_train_df['Product'].unique()\n",
        "df=new_train_df.groupby('Product').count()['Issue']\n",
        "# to get evenly spaced values within that range\n",
        "x=np.arange(len(cat))\n",
        "plt.barh(x,df,0.2)\n",
        "plt.yticks(x,df.index)\n",
        "plt.xlabel('No of Issues')\n",
        "plt.ylabel('Product Category')\n",
        "plt.show()\n",
        "\n",
        "df=df.reset_index()\n",
        "df['Percentage']=df['Issue'].map(lambda x: \"{:,.2%}\".format((x/358810)))\n",
        "df"
      ]
    },
    {
      "cell_type": "markdown",
      "metadata": {
        "id": "kkLO8NvGW2n9"
      },
      "source": [
        "From the above plot, Virtual currency,Prepaid card, Payday loan, Other financial service, money Transfers,Student loan, Consumer loan having less issues compared to rest of the issues. lets group these issues into one category"
      ]
    },
    {
      "cell_type": "markdown",
      "metadata": {
        "id": "Z3sa6tkdRy57"
      },
      "source": [
        "**Grouping less occurances of category**"
      ]
    },
    {
      "cell_type": "code",
      "execution_count": null,
      "metadata": {
        "id": "Dkd5Vda-aEv0"
      },
      "outputs": [],
      "source": [
        "binning_train_df['Product']=new_train_df['Product'].replace(['Virtual currency','Prepaid card', 'Payday loan', 'Other financial service', 'Money transfers','Student loan', 'Consumer Loan'],'others')"
      ]
    },
    {
      "cell_type": "code",
      "execution_count": null,
      "metadata": {
        "colab": {
          "base_uri": "https://localhost:8080/",
          "height": 237
        },
        "id": "qVxSXTMea96N",
        "outputId": "1bffa4ab-e201-4b3a-a0db-2b150a0238c6"
      },
      "outputs": [
        {
          "data": {
            "text/html": [
              "\n",
              "  <div id=\"df-0cbef195-5f9d-4305-af7a-bf2a9221dc64\">\n",
              "    <div class=\"colab-df-container\">\n",
              "      <div>\n",
              "<style scoped>\n",
              "    .dataframe tbody tr th:only-of-type {\n",
              "        vertical-align: middle;\n",
              "    }\n",
              "\n",
              "    .dataframe tbody tr th {\n",
              "        vertical-align: top;\n",
              "    }\n",
              "\n",
              "    .dataframe thead th {\n",
              "        text-align: right;\n",
              "    }\n",
              "</style>\n",
              "<table border=\"1\" class=\"dataframe\">\n",
              "  <thead>\n",
              "    <tr style=\"text-align: right;\">\n",
              "      <th></th>\n",
              "      <th>Product</th>\n",
              "      <th>Issue</th>\n",
              "      <th>Percentage</th>\n",
              "    </tr>\n",
              "  </thead>\n",
              "  <tbody>\n",
              "    <tr>\n",
              "      <th>0</th>\n",
              "      <td>Bank account or service</td>\n",
              "      <td>40667</td>\n",
              "      <td>11.33%</td>\n",
              "    </tr>\n",
              "    <tr>\n",
              "      <th>1</th>\n",
              "      <td>Credit card</td>\n",
              "      <td>43114</td>\n",
              "      <td>12.02%</td>\n",
              "    </tr>\n",
              "    <tr>\n",
              "      <th>2</th>\n",
              "      <td>Credit reporting</td>\n",
              "      <td>60672</td>\n",
              "      <td>16.91%</td>\n",
              "    </tr>\n",
              "    <tr>\n",
              "      <th>3</th>\n",
              "      <td>Debt collection</td>\n",
              "      <td>65033</td>\n",
              "      <td>18.12%</td>\n",
              "    </tr>\n",
              "    <tr>\n",
              "      <th>4</th>\n",
              "      <td>Mortgage</td>\n",
              "      <td>117066</td>\n",
              "      <td>32.63%</td>\n",
              "    </tr>\n",
              "    <tr>\n",
              "      <th>5</th>\n",
              "      <td>others</td>\n",
              "      <td>32258</td>\n",
              "      <td>8.99%</td>\n",
              "    </tr>\n",
              "  </tbody>\n",
              "</table>\n",
              "</div>\n",
              "      <button class=\"colab-df-convert\" onclick=\"convertToInteractive('df-0cbef195-5f9d-4305-af7a-bf2a9221dc64')\"\n",
              "              title=\"Convert this dataframe to an interactive table.\"\n",
              "              style=\"display:none;\">\n",
              "        \n",
              "  <svg xmlns=\"http://www.w3.org/2000/svg\" height=\"24px\"viewBox=\"0 0 24 24\"\n",
              "       width=\"24px\">\n",
              "    <path d=\"M0 0h24v24H0V0z\" fill=\"none\"/>\n",
              "    <path d=\"M18.56 5.44l.94 2.06.94-2.06 2.06-.94-2.06-.94-.94-2.06-.94 2.06-2.06.94zm-11 1L8.5 8.5l.94-2.06 2.06-.94-2.06-.94L8.5 2.5l-.94 2.06-2.06.94zm10 10l.94 2.06.94-2.06 2.06-.94-2.06-.94-.94-2.06-.94 2.06-2.06.94z\"/><path d=\"M17.41 7.96l-1.37-1.37c-.4-.4-.92-.59-1.43-.59-.52 0-1.04.2-1.43.59L10.3 9.45l-7.72 7.72c-.78.78-.78 2.05 0 2.83L4 21.41c.39.39.9.59 1.41.59.51 0 1.02-.2 1.41-.59l7.78-7.78 2.81-2.81c.8-.78.8-2.07 0-2.86zM5.41 20L4 18.59l7.72-7.72 1.47 1.35L5.41 20z\"/>\n",
              "  </svg>\n",
              "      </button>\n",
              "      \n",
              "  <style>\n",
              "    .colab-df-container {\n",
              "      display:flex;\n",
              "      flex-wrap:wrap;\n",
              "      gap: 12px;\n",
              "    }\n",
              "\n",
              "    .colab-df-convert {\n",
              "      background-color: #E8F0FE;\n",
              "      border: none;\n",
              "      border-radius: 50%;\n",
              "      cursor: pointer;\n",
              "      display: none;\n",
              "      fill: #1967D2;\n",
              "      height: 32px;\n",
              "      padding: 0 0 0 0;\n",
              "      width: 32px;\n",
              "    }\n",
              "\n",
              "    .colab-df-convert:hover {\n",
              "      background-color: #E2EBFA;\n",
              "      box-shadow: 0px 1px 2px rgba(60, 64, 67, 0.3), 0px 1px 3px 1px rgba(60, 64, 67, 0.15);\n",
              "      fill: #174EA6;\n",
              "    }\n",
              "\n",
              "    [theme=dark] .colab-df-convert {\n",
              "      background-color: #3B4455;\n",
              "      fill: #D2E3FC;\n",
              "    }\n",
              "\n",
              "    [theme=dark] .colab-df-convert:hover {\n",
              "      background-color: #434B5C;\n",
              "      box-shadow: 0px 1px 3px 1px rgba(0, 0, 0, 0.15);\n",
              "      filter: drop-shadow(0px 1px 2px rgba(0, 0, 0, 0.3));\n",
              "      fill: #FFFFFF;\n",
              "    }\n",
              "  </style>\n",
              "\n",
              "      <script>\n",
              "        const buttonEl =\n",
              "          document.querySelector('#df-0cbef195-5f9d-4305-af7a-bf2a9221dc64 button.colab-df-convert');\n",
              "        buttonEl.style.display =\n",
              "          google.colab.kernel.accessAllowed ? 'block' : 'none';\n",
              "\n",
              "        async function convertToInteractive(key) {\n",
              "          const element = document.querySelector('#df-0cbef195-5f9d-4305-af7a-bf2a9221dc64');\n",
              "          const dataTable =\n",
              "            await google.colab.kernel.invokeFunction('convertToInteractive',\n",
              "                                                     [key], {});\n",
              "          if (!dataTable) return;\n",
              "\n",
              "          const docLinkHtml = 'Like what you see? Visit the ' +\n",
              "            '<a target=\"_blank\" href=https://colab.research.google.com/notebooks/data_table.ipynb>data table notebook</a>'\n",
              "            + ' to learn more about interactive tables.';\n",
              "          element.innerHTML = '';\n",
              "          dataTable['output_type'] = 'display_data';\n",
              "          await google.colab.output.renderOutput(dataTable, element);\n",
              "          const docLink = document.createElement('div');\n",
              "          docLink.innerHTML = docLinkHtml;\n",
              "          element.appendChild(docLink);\n",
              "        }\n",
              "      </script>\n",
              "    </div>\n",
              "  </div>\n",
              "  "
            ],
            "text/plain": [
              "                   Product   Issue Percentage\n",
              "0  Bank account or service   40667     11.33%\n",
              "1              Credit card   43114     12.02%\n",
              "2         Credit reporting   60672     16.91%\n",
              "3          Debt collection   65033     18.12%\n",
              "4                 Mortgage  117066     32.63%\n",
              "5                   others   32258      8.99%"
            ]
          },
          "execution_count": 111,
          "metadata": {},
          "output_type": "execute_result"
        }
      ],
      "source": [
        "df=binning_train_df.groupby('Product').count()['Issue']\n",
        "df=df.reset_index()\n",
        "df['Percentage']=df['Issue'].map(lambda x: \"{:,.2%}\".format((x/358810)))\n",
        "df"
      ]
    },
    {
      "cell_type": "markdown",
      "metadata": {
        "id": "84TSPj2NDMB3"
      },
      "source": [
        "**Sub-product** Column"
      ]
    },
    {
      "cell_type": "code",
      "execution_count": null,
      "metadata": {
        "colab": {
          "base_uri": "https://localhost:8080/"
        },
        "id": "EwB5R2e62zOu",
        "outputId": "1e58f677-a408-4e9c-e787-4daf374accb7"
      },
      "outputs": [
        {
          "data": {
            "text/plain": [
              "48"
            ]
          },
          "execution_count": 96,
          "metadata": {},
          "output_type": "execute_result"
        }
      ],
      "source": [
        "len(new_train_df['Sub-product'].unique())"
      ]
    },
    {
      "cell_type": "code",
      "execution_count": null,
      "metadata": {
        "colab": {
          "base_uri": "https://localhost:8080/",
          "height": 622
        },
        "id": "Nm2r26v7kn3r",
        "outputId": "a26b534b-d3df-4169-b9dd-7a1c693ca6d2"
      },
      "outputs": [
        {
          "data": {
            "image/png": "[encoded data removed]",
            "text/plain": [
              "<Figure size 576x576 with 1 Axes>"
            ]
          },
          "metadata": {},
          "output_type": "display_data"
        }
      ],
      "source": [
        "l=[]\n",
        "for p in new_train_df['Product'].unique():\n",
        "  values=list(new_train_df[new_train_df['Product']==p]['Sub-product'].unique())\n",
        "  mylist = [str(x) for x in values]\n",
        "  if 'nan' in mylist:\n",
        "    count=0\n",
        "  else:\n",
        "    count=len(values)\n",
        "  l.append({'Product Category':p,\"Sub-Product Count\":count})\n",
        "sub_df=pd.DataFrame(l)\n",
        "\n",
        "x=np.arange(len(sub_df['Product Category'].unique()))\n",
        "plt.figure(figsize=(8,8))\n",
        "plt.bar(x,sub_df['Sub-Product Count'],width=0.4)\n",
        "plt.xlabel('Product Category')\n",
        "plt.ylabel('No of Sub Products')\n",
        "plt.xticks(x,sub_df['Product Category'].unique(),rotation=75)\n",
        "plt.title('Product Category and its Sub-Products count')\n",
        "plt.show()"
      ]
    },
    {
      "cell_type": "markdown",
      "metadata": {
        "id": "JQkQjT_lAmZy"
      },
      "source": [
        "Missing values in **Sub-product** column is MNAR(Missing Not at Random). Because values are missed completely only for Product Categories [Credit Reporting and Credit Card Category]."
      ]
    },
    {
      "cell_type": "code",
      "execution_count": null,
      "metadata": {
        "id": "OGFbmSPsV5pg"
      },
      "outputs": [],
      "source": [
        "#binning_train_df.drop('Sub-product',axis=1,inplace=True)"
      ]
    },
    {
      "cell_type": "markdown",
      "metadata": {
        "id": "cA93JSlSDUnJ"
      },
      "source": [
        "**Sub Issue** Column"
      ]
    },
    {
      "cell_type": "code",
      "execution_count": null,
      "metadata": {
        "colab": {
          "base_uri": "https://localhost:8080/"
        },
        "id": "9fz0D9HJ2--G",
        "outputId": "7da7e29a-f4eb-4a72-b5df-96a3b439fe64"
      },
      "outputs": [
        {
          "data": {
            "text/plain": [
              "68"
            ]
          },
          "execution_count": 97,
          "metadata": {},
          "output_type": "execute_result"
        }
      ],
      "source": [
        "len(new_train_df['Sub-issue'].unique())"
      ]
    },
    {
      "cell_type": "code",
      "execution_count": null,
      "metadata": {
        "colab": {
          "base_uri": "https://localhost:8080/",
          "height": 622
        },
        "id": "l-lWbpkDDUAm",
        "outputId": "39eb6216-a79c-4604-9b99-3b81dc75b1d4"
      },
      "outputs": [
        {
          "data": {
            "image/png": "[encoded data removed]",
            "text/plain": [
              "<Figure size 576x576 with 1 Axes>"
            ]
          },
          "metadata": {},
          "output_type": "display_data"
        }
      ],
      "source": [
        "l=[]\n",
        "for p in new_train_df['Product'].unique():\n",
        "  values=list(new_train_df[new_train_df['Product']==p]['Sub-issue'].unique())\n",
        "  mylist = [str(x) for x in values]\n",
        "  if 'nan' in mylist:\n",
        "    count=0\n",
        "  else:\n",
        "    count=len(values)\n",
        "  l.append({'Product Category':p,\"Sub-issue Count\":count})\n",
        "sub_issue=pd.DataFrame(l)\n",
        "\n",
        "x=np.arange(len(sub_df['Product Category'].unique()))\n",
        "plt.figure(figsize=(8,8))\n",
        "plt.bar(x,sub_issue['Sub-issue Count'],width=0.4)\n",
        "plt.xlabel('Product Category')\n",
        "plt.ylabel('No of Sub Products')\n",
        "plt.xticks(x,sub_issue['Product Category'].unique(),rotation=75)\n",
        "plt.title('Product Category and its Sub-Issue count')\n",
        "plt.show()"
      ]
    },
    {
      "cell_type": "markdown",
      "metadata": {
        "id": "ojmpTDnSOM5M"
      },
      "source": [
        "**Sub-issue** column is completely empty for 6 product categories. It seems to be of MNAR phenomenon.<br>"
      ]
    },
    {
      "cell_type": "markdown",
      "metadata": {
        "id": "8iaVbD6hcTuM"
      },
      "source": [
        "**Issue** Column"
      ]
    },
    {
      "cell_type": "code",
      "execution_count": null,
      "metadata": {
        "colab": {
          "base_uri": "https://localhost:8080/",
          "height": 738
        },
        "id": "NxGaCg-xcdJt",
        "outputId": "78412f8f-c127-4aba-ba8e-0d25642d6249"
      },
      "outputs": [
        {
          "data": {
            "text/html": [
              "\n",
              "  <div id=\"df-ab685709-c84b-49a6-98fe-d9e25a090f60\">\n",
              "    <div class=\"colab-df-container\">\n",
              "      <div>\n",
              "<style scoped>\n",
              "    .dataframe tbody tr th:only-of-type {\n",
              "        vertical-align: middle;\n",
              "    }\n",
              "\n",
              "    .dataframe tbody tr th {\n",
              "        vertical-align: top;\n",
              "    }\n",
              "\n",
              "    .dataframe thead th {\n",
              "        text-align: right;\n",
              "    }\n",
              "</style>\n",
              "<table border=\"1\" class=\"dataframe\">\n",
              "  <thead>\n",
              "    <tr style=\"text-align: right;\">\n",
              "      <th></th>\n",
              "      <th>index</th>\n",
              "      <th>Issue</th>\n",
              "      <th>percentage</th>\n",
              "    </tr>\n",
              "  </thead>\n",
              "  <tbody>\n",
              "    <tr>\n",
              "      <th>0</th>\n",
              "      <td>Loan modification,collection,foreclosure</td>\n",
              "      <td>60185</td>\n",
              "      <td>16.773501</td>\n",
              "    </tr>\n",
              "    <tr>\n",
              "      <th>1</th>\n",
              "      <td>Incorrect information on credit report</td>\n",
              "      <td>43825</td>\n",
              "      <td>12.213985</td>\n",
              "    </tr>\n",
              "    <tr>\n",
              "      <th>2</th>\n",
              "      <td>Loan servicing, payments, escrow account</td>\n",
              "      <td>38456</td>\n",
              "      <td>10.717650</td>\n",
              "    </tr>\n",
              "    <tr>\n",
              "      <th>3</th>\n",
              "      <td>Cont'd attempts collect debt not owed</td>\n",
              "      <td>27266</td>\n",
              "      <td>7.599008</td>\n",
              "    </tr>\n",
              "    <tr>\n",
              "      <th>4</th>\n",
              "      <td>Account opening, closing, or management</td>\n",
              "      <td>17557</td>\n",
              "      <td>4.893119</td>\n",
              "    </tr>\n",
              "    <tr>\n",
              "      <th>5</th>\n",
              "      <td>Disclosure verification of debt</td>\n",
              "      <td>12283</td>\n",
              "      <td>3.423260</td>\n",
              "    </tr>\n",
              "    <tr>\n",
              "      <th>6</th>\n",
              "      <td>Communication tactics</td>\n",
              "      <td>11457</td>\n",
              "      <td>3.193055</td>\n",
              "    </tr>\n",
              "    <tr>\n",
              "      <th>7</th>\n",
              "      <td>Deposits and withdrawals</td>\n",
              "      <td>11028</td>\n",
              "      <td>3.073493</td>\n",
              "    </tr>\n",
              "    <tr>\n",
              "      <th>8</th>\n",
              "      <td>Application, originator, mortgage broker</td>\n",
              "      <td>8441</td>\n",
              "      <td>2.352499</td>\n",
              "    </tr>\n",
              "    <tr>\n",
              "      <th>9</th>\n",
              "      <td>Billing disputes</td>\n",
              "      <td>7244</td>\n",
              "      <td>2.018896</td>\n",
              "    </tr>\n",
              "    <tr>\n",
              "      <th>10</th>\n",
              "      <td>Other</td>\n",
              "      <td>7159</td>\n",
              "      <td>1.995206</td>\n",
              "    </tr>\n",
              "    <tr>\n",
              "      <th>11</th>\n",
              "      <td>Credit reporting company's investigation</td>\n",
              "      <td>6995</td>\n",
              "      <td>1.949500</td>\n",
              "    </tr>\n",
              "    <tr>\n",
              "      <th>12</th>\n",
              "      <td>Managing the loan or lease</td>\n",
              "      <td>6738</td>\n",
              "      <td>1.877874</td>\n",
              "    </tr>\n",
              "    <tr>\n",
              "      <th>13</th>\n",
              "      <td>Problems caused by my funds being low</td>\n",
              "      <td>5783</td>\n",
              "      <td>1.611717</td>\n",
              "    </tr>\n",
              "    <tr>\n",
              "      <th>14</th>\n",
              "      <td>False statements or representation</td>\n",
              "      <td>5363</td>\n",
              "      <td>1.494663</td>\n",
              "    </tr>\n",
              "    <tr>\n",
              "      <th>15</th>\n",
              "      <td>Unable to get credit report/credit score</td>\n",
              "      <td>5335</td>\n",
              "      <td>1.486859</td>\n",
              "    </tr>\n",
              "    <tr>\n",
              "      <th>16</th>\n",
              "      <td>Dealing with my lender or servicer</td>\n",
              "      <td>4933</td>\n",
              "      <td>1.374822</td>\n",
              "    </tr>\n",
              "    <tr>\n",
              "      <th>17</th>\n",
              "      <td>Improper contact or sharing of info</td>\n",
              "      <td>4623</td>\n",
              "      <td>1.288426</td>\n",
              "    </tr>\n",
              "    <tr>\n",
              "      <th>18</th>\n",
              "      <td>Settlement process and costs</td>\n",
              "      <td>4405</td>\n",
              "      <td>1.227669</td>\n",
              "    </tr>\n",
              "    <tr>\n",
              "      <th>19</th>\n",
              "      <td>Problems when you are unable to pay</td>\n",
              "      <td>4390</td>\n",
              "      <td>1.223489</td>\n",
              "    </tr>\n",
              "    <tr>\n",
              "      <th>20</th>\n",
              "      <td>Taking/threatening an illegal action</td>\n",
              "      <td>4041</td>\n",
              "      <td>1.126223</td>\n",
              "    </tr>\n",
              "    <tr>\n",
              "      <th>21</th>\n",
              "      <td>Identity theft / Fraud / Embezzlement</td>\n",
              "      <td>3863</td>\n",
              "      <td>1.076614</td>\n",
              "    </tr>\n",
              "  </tbody>\n",
              "</table>\n",
              "</div>\n",
              "      <button class=\"colab-df-convert\" onclick=\"convertToInteractive('df-ab685709-c84b-49a6-98fe-d9e25a090f60')\"\n",
              "              title=\"Convert this dataframe to an interactive table.\"\n",
              "              style=\"display:none;\">\n",
              "        \n",
              "  <svg xmlns=\"http://www.w3.org/2000/svg\" height=\"24px\"viewBox=\"0 0 24 24\"\n",
              "       width=\"24px\">\n",
              "    <path d=\"M0 0h24v24H0V0z\" fill=\"none\"/>\n",
              "    <path d=\"M18.56 5.44l.94 2.06.94-2.06 2.06-.94-2.06-.94-.94-2.06-.94 2.06-2.06.94zm-11 1L8.5 8.5l.94-2.06 2.06-.94-2.06-.94L8.5 2.5l-.94 2.06-2.06.94zm10 10l.94 2.06.94-2.06 2.06-.94-2.06-.94-.94-2.06-.94 2.06-2.06.94z\"/><path d=\"M17.41 7.96l-1.37-1.37c-.4-.4-.92-.59-1.43-.59-.52 0-1.04.2-1.43.59L10.3 9.45l-7.72 7.72c-.78.78-.78 2.05 0 2.83L4 21.41c.39.39.9.59 1.41.59.51 0 1.02-.2 1.41-.59l7.78-7.78 2.81-2.81c.8-.78.8-2.07 0-2.86zM5.41 20L4 18.59l7.72-7.72 1.47 1.35L5.41 20z\"/>\n",
              "  </svg>\n",
              "      </button>\n",
              "      \n",
              "  <style>\n",
              "    .colab-df-container {\n",
              "      display:flex;\n",
              "      flex-wrap:wrap;\n",
              "      gap: 12px;\n",
              "    }\n",
              "\n",
              "    .colab-df-convert {\n",
              "      background-color: #E8F0FE;\n",
              "      border: none;\n",
              "      border-radius: 50%;\n",
              "      cursor: pointer;\n",
              "      display: none;\n",
              "      fill: #1967D2;\n",
              "      height: 32px;\n",
              "      padding: 0 0 0 0;\n",
              "      width: 32px;\n",
              "    }\n",
              "\n",
              "    .colab-df-convert:hover {\n",
              "      background-color: #E2EBFA;\n",
              "      box-shadow: 0px 1px 2px rgba(60, 64, 67, 0.3), 0px 1px 3px 1px rgba(60, 64, 67, 0.15);\n",
              "      fill: #174EA6;\n",
              "    }\n",
              "\n",
              "    [theme=dark] .colab-df-convert {\n",
              "      background-color: #3B4455;\n",
              "      fill: #D2E3FC;\n",
              "    }\n",
              "\n",
              "    [theme=dark] .colab-df-convert:hover {\n",
              "      background-color: #434B5C;\n",
              "      box-shadow: 0px 1px 3px 1px rgba(0, 0, 0, 0.15);\n",
              "      filter: drop-shadow(0px 1px 2px rgba(0, 0, 0, 0.3));\n",
              "      fill: #FFFFFF;\n",
              "    }\n",
              "  </style>\n",
              "\n",
              "      <script>\n",
              "        const buttonEl =\n",
              "          document.querySelector('#df-ab685709-c84b-49a6-98fe-d9e25a090f60 button.colab-df-convert');\n",
              "        buttonEl.style.display =\n",
              "          google.colab.kernel.accessAllowed ? 'block' : 'none';\n",
              "\n",
              "        async function convertToInteractive(key) {\n",
              "          const element = document.querySelector('#df-ab685709-c84b-49a6-98fe-d9e25a090f60');\n",
              "          const dataTable =\n",
              "            await google.colab.kernel.invokeFunction('convertToInteractive',\n",
              "                                                     [key], {});\n",
              "          if (!dataTable) return;\n",
              "\n",
              "          const docLinkHtml = 'Like what you see? Visit the ' +\n",
              "            '<a target=\"_blank\" href=https://colab.research.google.com/notebooks/data_table.ipynb>data table notebook</a>'\n",
              "            + ' to learn more about interactive tables.';\n",
              "          element.innerHTML = '';\n",
              "          dataTable['output_type'] = 'display_data';\n",
              "          await google.colab.output.renderOutput(dataTable, element);\n",
              "          const docLink = document.createElement('div');\n",
              "          docLink.innerHTML = docLinkHtml;\n",
              "          element.appendChild(docLink);\n",
              "        }\n",
              "      </script>\n",
              "    </div>\n",
              "  </div>\n",
              "  "
            ],
            "text/plain": [
              "                                       index  Issue  percentage\n",
              "0   Loan modification,collection,foreclosure  60185   16.773501\n",
              "1     Incorrect information on credit report  43825   12.213985\n",
              "2   Loan servicing, payments, escrow account  38456   10.717650\n",
              "3      Cont'd attempts collect debt not owed  27266    7.599008\n",
              "4    Account opening, closing, or management  17557    4.893119\n",
              "5            Disclosure verification of debt  12283    3.423260\n",
              "6                      Communication tactics  11457    3.193055\n",
              "7                   Deposits and withdrawals  11028    3.073493\n",
              "8   Application, originator, mortgage broker   8441    2.352499\n",
              "9                           Billing disputes   7244    2.018896\n",
              "10                                     Other   7159    1.995206\n",
              "11  Credit reporting company's investigation   6995    1.949500\n",
              "12                Managing the loan or lease   6738    1.877874\n",
              "13     Problems caused by my funds being low   5783    1.611717\n",
              "14        False statements or representation   5363    1.494663\n",
              "15  Unable to get credit report/credit score   5335    1.486859\n",
              "16        Dealing with my lender or servicer   4933    1.374822\n",
              "17       Improper contact or sharing of info   4623    1.288426\n",
              "18              Settlement process and costs   4405    1.227669\n",
              "19       Problems when you are unable to pay   4390    1.223489\n",
              "20      Taking/threatening an illegal action   4041    1.126223\n",
              "21     Identity theft / Fraud / Embezzlement   3863    1.076614"
            ]
          },
          "execution_count": 87,
          "metadata": {},
          "output_type": "execute_result"
        }
      ],
      "source": [
        "issue_df=new_train_df['Issue'].value_counts().reset_index()\n",
        "issue_df['percentage']=issue_df['Issue'].map(lambda x: (x/new_train_df.shape[0])*100)\n",
        "issue_df[issue_df['percentage']>1]\n"
      ]
    },
    {
      "cell_type": "markdown",
      "metadata": {
        "id": "6aDYFhzwftmi"
      },
      "source": [
        "Based on above frequency distribution, less than 1% issues can be grouped. These issues can be grouped according to their frequencies. <br>\n",
        "\n",
        "Lets group issues less than 1% as one category and issue >1% as another category"
      ]
    },
    {
      "cell_type": "code",
      "execution_count": null,
      "metadata": {
        "id": "I8tBKFj8Rcyr"
      },
      "outputs": [],
      "source": [
        "binning_train_df['Issue']=binning_train_df['Issue'].replace([issue_df[issue_df['percentage']>=1]['index']],'issues >1 percent occurance')\n",
        "binning_train_df['Issue']=binning_train_df['Issue'].replace([issue_df[issue_df['percentage']<1]['index']],'issues <1 percent occurance')"
      ]
    },
    {
      "cell_type": "markdown",
      "metadata": {
        "id": "dMObUJOymN3D"
      },
      "source": [
        "**Company Column**"
      ]
    },
    {
      "cell_type": "code",
      "execution_count": null,
      "metadata": {
        "colab": {
          "base_uri": "https://localhost:8080/"
        },
        "id": "8oFLSShzG02Y",
        "outputId": "37a9ae7f-3f25-462a-bd81-c0efb92c208e"
      },
      "outputs": [
        {
          "data": {
            "text/plain": [
              "3064"
            ]
          },
          "execution_count": 13,
          "metadata": {},
          "output_type": "execute_result"
        }
      ],
      "source": [
        "len(new_train_df['Company'].unique())"
      ]
    },
    {
      "cell_type": "code",
      "execution_count": null,
      "metadata": {
        "colab": {
          "base_uri": "https://localhost:8080/",
          "height": 513
        },
        "id": "ZPb6qFhqmR_9",
        "outputId": "b1cb739f-b008-4491-8e08-b38bba70a11b"
      },
      "outputs": [
        {
          "data": {
            "image/png": "[encoded data removed]",
            "text/plain": [
              "<Figure size 576x576 with 1 Axes>"
            ]
          },
          "metadata": {},
          "output_type": "display_data"
        }
      ],
      "source": [
        "company_df=new_train_df['Company'].value_counts().reset_index()\n",
        "# Print range of issues (in percentage) occured in each company\n",
        "\n",
        "company_df['Percentage']=company_df['Company'].map(lambda x: (x/358810)*100)\n",
        "\n",
        "plt.figure(figsize=(8, 8))\n",
        "freq,bins,patches=plt.hist(x=company_df['Percentage'])\n",
        "for bar in patches:\n",
        "  plt.annotate(bar.get_height(),xy=((bar.get_x(),bar.get_height())),size=15)\n",
        "\n",
        "plt.xlabel(\"Percentage of Issues\")\n",
        "plt.ylabel(\"No of Companies\")\n",
        "plt.title(\"Company vice Issue Distribution in Percent\")\n",
        "plt.show()"
      ]
    },
    {
      "cell_type": "markdown",
      "metadata": {
        "id": "vArMJoLwGsPo"
      },
      "source": [
        "From the above figure, its evident that out of 3064 companies,the occurance of issues are less than 1% in 3046 companies .\n",
        "\n",
        "We will bin the Company based on the occurance of Issues as 0 to 1 and 1 to 10"
      ]
    },
    {
      "cell_type": "code",
      "execution_count": null,
      "metadata": {
        "id": "tQ4dXpE4WtaL"
      },
      "outputs": [],
      "source": [
        "binning_train_df['Company']=binning_train_df['Company'].replace([company_df[company_df['Percentage']>=1]['index']],'Company >1% issues')\n",
        "binning_train_df['Company']=binning_train_df['Company'].replace([company_df[company_df['Percentage']<1]['index']],'Company <1% issues')"
      ]
    },
    {
      "cell_type": "markdown",
      "metadata": {
        "id": "QGz9WB_9cmjX"
      },
      "source": [
        "**State Column**"
      ]
    },
    {
      "cell_type": "code",
      "execution_count": null,
      "metadata": {
        "colab": {
          "base_uri": "https://localhost:8080/",
          "height": 531
        },
        "id": "TljDv6Vhcpiv",
        "outputId": "d803f9c1-3d4c-4598-c626-e6a0399a6af1"
      },
      "outputs": [
        {
          "name": "stdout",
          "output_type": "stream",
          "text": [
            "Unique States 63\n"
          ]
        },
        {
          "data": {
            "image/png": "[encoded data removed]",
            "text/plain": [
              "<Figure size 576x576 with 1 Axes>"
            ]
          },
          "metadata": {},
          "output_type": "display_data"
        }
      ],
      "source": [
        "print(\"Unique States\",len(new_train_df['State'].unique()))\n",
        "state_df=new_train_df['State'].value_counts().reset_index()\n",
        "# Print range of issues (in percentage) occured in each company\n",
        "\n",
        "state_df['Percentage']=state_df['State'].map(lambda x: (x/358810)*100)\n",
        "\n",
        "plt.figure(figsize=(8, 8))\n",
        "freq,bins,patches=plt.hist(x=state_df['Percentage'])\n",
        "for bar in patches:\n",
        "  plt.annotate(bar.get_height(),xy=((bar.get_x(),bar.get_height())),size=15)\n",
        "\n",
        "plt.xlabel(\"Percentage of Issues\")\n",
        "plt.ylabel(\"Number of States\")\n",
        "plt.title(\"State vice Issue Distribution in Percent\")\n",
        "plt.show()"
      ]
    },
    {
      "cell_type": "code",
      "execution_count": null,
      "metadata": {
        "id": "SqLmEWc_8WQH"
      },
      "outputs": [],
      "source": [
        "binning_train_df['State']=binning_train_df['State'].replace([state_df[state_df['Percentage']>=1]['index']],'State >1 percent issues')\n",
        "binning_train_df['State']=binning_train_df['State'].replace([state_df[state_df['Percentage']<1]['index']],'State <1 percent issues')"
      ]
    },
    {
      "cell_type": "code",
      "execution_count": null,
      "metadata": {
        "colab": {
          "base_uri": "https://localhost:8080/",
          "height": 850
        },
        "id": "mNTTypx5-pcj",
        "outputId": "70bf9feb-564c-4dc4-ba0f-b0b24bc7478e"
      },
      "outputs": [
        {
          "data": {
            "text/html": [
              "\n",
              "  <div id=\"df-02fdcb90-33c1-40de-b458-cff1c1ddf6b3\">\n",
              "    <div class=\"colab-df-container\">\n",
              "      <div>\n",
              "<style scoped>\n",
              "    .dataframe tbody tr th:only-of-type {\n",
              "        vertical-align: middle;\n",
              "    }\n",
              "\n",
              "    .dataframe tbody tr th {\n",
              "        vertical-align: top;\n",
              "    }\n",
              "\n",
              "    .dataframe thead th {\n",
              "        text-align: right;\n",
              "    }\n",
              "</style>\n",
              "<table border=\"1\" class=\"dataframe\">\n",
              "  <thead>\n",
              "    <tr style=\"text-align: right;\">\n",
              "      <th></th>\n",
              "      <th>Date received</th>\n",
              "      <th>Product</th>\n",
              "      <th>Issue</th>\n",
              "      <th>Company public response</th>\n",
              "      <th>Company</th>\n",
              "      <th>State</th>\n",
              "      <th>Consumer consent provided?</th>\n",
              "      <th>Submitted via</th>\n",
              "      <th>Date sent to company</th>\n",
              "      <th>Company response to consumer</th>\n",
              "      <th>Timely response?</th>\n",
              "      <th>Consumer disputed?</th>\n",
              "    </tr>\n",
              "  </thead>\n",
              "  <tbody>\n",
              "    <tr>\n",
              "      <th>0</th>\n",
              "      <td>2015-10-14</td>\n",
              "      <td>Credit reporting</td>\n",
              "      <td>issues &gt;1 percent occurance</td>\n",
              "      <td>NaN</td>\n",
              "      <td>GA</td>\n",
              "      <td>State &gt;1 percent issues</td>\n",
              "      <td>Consent not provided</td>\n",
              "      <td>Web</td>\n",
              "      <td>2015-10-14</td>\n",
              "      <td>Closed with explanation</td>\n",
              "      <td>Yes</td>\n",
              "      <td>No</td>\n",
              "    </tr>\n",
              "    <tr>\n",
              "      <th>1</th>\n",
              "      <td>2015-04-26</td>\n",
              "      <td>Bank account or service</td>\n",
              "      <td>issues &gt;1 percent occurance</td>\n",
              "      <td>NaN</td>\n",
              "      <td>GA</td>\n",
              "      <td>State &gt;1 percent issues</td>\n",
              "      <td>Consent provided</td>\n",
              "      <td>Web</td>\n",
              "      <td>2015-04-26</td>\n",
              "      <td>Closed with explanation</td>\n",
              "      <td>Yes</td>\n",
              "      <td>Yes</td>\n",
              "    </tr>\n",
              "    <tr>\n",
              "      <th>2</th>\n",
              "      <td>2013-12-20</td>\n",
              "      <td>Credit card</td>\n",
              "      <td>issues &gt;1 percent occurance</td>\n",
              "      <td>NaN</td>\n",
              "      <td>SC</td>\n",
              "      <td>State &gt;1 percent issues</td>\n",
              "      <td>NaN</td>\n",
              "      <td>Phone</td>\n",
              "      <td>2014-01-03</td>\n",
              "      <td>Closed with non-monetary relief</td>\n",
              "      <td>Yes</td>\n",
              "      <td>No</td>\n",
              "    </tr>\n",
              "    <tr>\n",
              "      <th>3</th>\n",
              "      <td>2016-03-03</td>\n",
              "      <td>Debt collection</td>\n",
              "      <td>issues &gt;1 percent occurance</td>\n",
              "      <td>Company has responded to the consumer and the ...</td>\n",
              "      <td>OH</td>\n",
              "      <td>State &gt;1 percent issues</td>\n",
              "      <td>NaN</td>\n",
              "      <td>Referral</td>\n",
              "      <td>2016-03-04</td>\n",
              "      <td>Closed with explanation</td>\n",
              "      <td>Yes</td>\n",
              "      <td>No</td>\n",
              "    </tr>\n",
              "    <tr>\n",
              "      <th>4</th>\n",
              "      <td>2015-01-30</td>\n",
              "      <td>Debt collection</td>\n",
              "      <td>issues &gt;1 percent occurance</td>\n",
              "      <td>NaN</td>\n",
              "      <td>CA</td>\n",
              "      <td>State &gt;1 percent issues</td>\n",
              "      <td>NaN</td>\n",
              "      <td>Web</td>\n",
              "      <td>2015-01-30</td>\n",
              "      <td>Closed with explanation</td>\n",
              "      <td>Yes</td>\n",
              "      <td>Yes</td>\n",
              "    </tr>\n",
              "    <tr>\n",
              "      <th>...</th>\n",
              "      <td>...</td>\n",
              "      <td>...</td>\n",
              "      <td>...</td>\n",
              "      <td>...</td>\n",
              "      <td>...</td>\n",
              "      <td>...</td>\n",
              "      <td>...</td>\n",
              "      <td>...</td>\n",
              "      <td>...</td>\n",
              "      <td>...</td>\n",
              "      <td>...</td>\n",
              "      <td>...</td>\n",
              "    </tr>\n",
              "    <tr>\n",
              "      <th>358805</th>\n",
              "      <td>2014-04-14</td>\n",
              "      <td>Credit reporting</td>\n",
              "      <td>issues &gt;1 percent occurance</td>\n",
              "      <td>NaN</td>\n",
              "      <td>OR</td>\n",
              "      <td>State &gt;1 percent issues</td>\n",
              "      <td>NaN</td>\n",
              "      <td>Web</td>\n",
              "      <td>2014-04-13</td>\n",
              "      <td>Closed with non-monetary relief</td>\n",
              "      <td>Yes</td>\n",
              "      <td>No</td>\n",
              "    </tr>\n",
              "    <tr>\n",
              "      <th>358806</th>\n",
              "      <td>2013-03-14</td>\n",
              "      <td>Mortgage</td>\n",
              "      <td>issues &gt;1 percent occurance</td>\n",
              "      <td>NaN</td>\n",
              "      <td>OH</td>\n",
              "      <td>State &gt;1 percent issues</td>\n",
              "      <td>NaN</td>\n",
              "      <td>Referral</td>\n",
              "      <td>2013-03-18</td>\n",
              "      <td>Closed with non-monetary relief</td>\n",
              "      <td>Yes</td>\n",
              "      <td>No</td>\n",
              "    </tr>\n",
              "    <tr>\n",
              "      <th>358807</th>\n",
              "      <td>2013-02-01</td>\n",
              "      <td>Credit card</td>\n",
              "      <td>issues &lt;1 percent occurance</td>\n",
              "      <td>NaN</td>\n",
              "      <td>TX</td>\n",
              "      <td>State &gt;1 percent issues</td>\n",
              "      <td>NaN</td>\n",
              "      <td>Web</td>\n",
              "      <td>2013-02-01</td>\n",
              "      <td>Closed</td>\n",
              "      <td>Yes</td>\n",
              "      <td>Yes</td>\n",
              "    </tr>\n",
              "    <tr>\n",
              "      <th>358808</th>\n",
              "      <td>2015-06-25</td>\n",
              "      <td>Debt collection</td>\n",
              "      <td>issues &gt;1 percent occurance</td>\n",
              "      <td>NaN</td>\n",
              "      <td>FL</td>\n",
              "      <td>State &gt;1 percent issues</td>\n",
              "      <td>NaN</td>\n",
              "      <td>Phone</td>\n",
              "      <td>2015-06-29</td>\n",
              "      <td>Closed with non-monetary relief</td>\n",
              "      <td>Yes</td>\n",
              "      <td>No</td>\n",
              "    </tr>\n",
              "    <tr>\n",
              "      <th>358809</th>\n",
              "      <td>2015-05-12</td>\n",
              "      <td>Credit reporting</td>\n",
              "      <td>issues &gt;1 percent occurance</td>\n",
              "      <td>Company chooses not to provide a public response</td>\n",
              "      <td>FL</td>\n",
              "      <td>State &gt;1 percent issues</td>\n",
              "      <td>NaN</td>\n",
              "      <td>Referral</td>\n",
              "      <td>2015-06-03</td>\n",
              "      <td>Closed with explanation</td>\n",
              "      <td>Yes</td>\n",
              "      <td>No</td>\n",
              "    </tr>\n",
              "  </tbody>\n",
              "</table>\n",
              "<p>358810 rows × 12 columns</p>\n",
              "</div>\n",
              "      <button class=\"colab-df-convert\" onclick=\"convertToInteractive('df-02fdcb90-33c1-40de-b458-cff1c1ddf6b3')\"\n",
              "              title=\"Convert this dataframe to an interactive table.\"\n",
              "              style=\"display:none;\">\n",
              "        \n",
              "  <svg xmlns=\"http://www.w3.org/2000/svg\" height=\"24px\"viewBox=\"0 0 24 24\"\n",
              "       width=\"24px\">\n",
              "    <path d=\"M0 0h24v24H0V0z\" fill=\"none\"/>\n",
              "    <path d=\"M18.56 5.44l.94 2.06.94-2.06 2.06-.94-2.06-.94-.94-2.06-.94 2.06-2.06.94zm-11 1L8.5 8.5l.94-2.06 2.06-.94-2.06-.94L8.5 2.5l-.94 2.06-2.06.94zm10 10l.94 2.06.94-2.06 2.06-.94-2.06-.94-.94-2.06-.94 2.06-2.06.94z\"/><path d=\"M17.41 7.96l-1.37-1.37c-.4-.4-.92-.59-1.43-.59-.52 0-1.04.2-1.43.59L10.3 9.45l-7.72 7.72c-.78.78-.78 2.05 0 2.83L4 21.41c.39.39.9.59 1.41.59.51 0 1.02-.2 1.41-.59l7.78-7.78 2.81-2.81c.8-.78.8-2.07 0-2.86zM5.41 20L4 18.59l7.72-7.72 1.47 1.35L5.41 20z\"/>\n",
              "  </svg>\n",
              "      </button>\n",
              "      \n",
              "  <style>\n",
              "    .colab-df-container {\n",
              "      display:flex;\n",
              "      flex-wrap:wrap;\n",
              "      gap: 12px;\n",
              "    }\n",
              "\n",
              "    .colab-df-convert {\n",
              "      background-color: #E8F0FE;\n",
              "      border: none;\n",
              "      border-radius: 50%;\n",
              "      cursor: pointer;\n",
              "      display: none;\n",
              "      fill: #1967D2;\n",
              "      height: 32px;\n",
              "      padding: 0 0 0 0;\n",
              "      width: 32px;\n",
              "    }\n",
              "\n",
              "    .colab-df-convert:hover {\n",
              "      background-color: #E2EBFA;\n",
              "      box-shadow: 0px 1px 2px rgba(60, 64, 67, 0.3), 0px 1px 3px 1px rgba(60, 64, 67, 0.15);\n",
              "      fill: #174EA6;\n",
              "    }\n",
              "\n",
              "    [theme=dark] .colab-df-convert {\n",
              "      background-color: #3B4455;\n",
              "      fill: #D2E3FC;\n",
              "    }\n",
              "\n",
              "    [theme=dark] .colab-df-convert:hover {\n",
              "      background-color: #434B5C;\n",
              "      box-shadow: 0px 1px 3px 1px rgba(0, 0, 0, 0.15);\n",
              "      filter: drop-shadow(0px 1px 2px rgba(0, 0, 0, 0.3));\n",
              "      fill: #FFFFFF;\n",
              "    }\n",
              "  </style>\n",
              "\n",
              "      <script>\n",
              "        const buttonEl =\n",
              "          document.querySelector('#df-02fdcb90-33c1-40de-b458-cff1c1ddf6b3 button.colab-df-convert');\n",
              "        buttonEl.style.display =\n",
              "          google.colab.kernel.accessAllowed ? 'block' : 'none';\n",
              "\n",
              "        async function convertToInteractive(key) {\n",
              "          const element = document.querySelector('#df-02fdcb90-33c1-40de-b458-cff1c1ddf6b3');\n",
              "          const dataTable =\n",
              "            await google.colab.kernel.invokeFunction('convertToInteractive',\n",
              "                                                     [key], {});\n",
              "          if (!dataTable) return;\n",
              "\n",
              "          const docLinkHtml = 'Like what you see? Visit the ' +\n",
              "            '<a target=\"_blank\" href=https://colab.research.google.com/notebooks/data_table.ipynb>data table notebook</a>'\n",
              "            + ' to learn more about interactive tables.';\n",
              "          element.innerHTML = '';\n",
              "          dataTable['output_type'] = 'display_data';\n",
              "          await google.colab.output.renderOutput(dataTable, element);\n",
              "          const docLink = document.createElement('div');\n",
              "          docLink.innerHTML = docLinkHtml;\n",
              "          element.appendChild(docLink);\n",
              "        }\n",
              "      </script>\n",
              "    </div>\n",
              "  </div>\n",
              "  "
            ],
            "text/plain": [
              "       Date received  ... Consumer disputed?\n",
              "0         2015-10-14  ...                 No\n",
              "1         2015-04-26  ...                Yes\n",
              "2         2013-12-20  ...                 No\n",
              "3         2016-03-03  ...                 No\n",
              "4         2015-01-30  ...                Yes\n",
              "...              ...  ...                ...\n",
              "358805    2014-04-14  ...                 No\n",
              "358806    2013-03-14  ...                 No\n",
              "358807    2013-02-01  ...                Yes\n",
              "358808    2015-06-25  ...                 No\n",
              "358809    2015-05-12  ...                 No\n",
              "\n",
              "[358810 rows x 12 columns]"
            ]
          },
          "execution_count": 120,
          "metadata": {},
          "output_type": "execute_result"
        }
      ],
      "source": [
        "binning_train_df"
      ]
    },
    {
      "cell_type": "markdown",
      "metadata": {
        "id": "o4hbaB9dw-75"
      },
      "source": [
        "**Company Public Response** column"
      ]
    },
    {
      "cell_type": "code",
      "execution_count": null,
      "metadata": {
        "colab": {
          "base_uri": "https://localhost:8080/",
          "height": 265
        },
        "id": "n2U9tEXms8Px",
        "outputId": "0c2de3bc-9333-4e1b-b0ca-536362f8c721"
      },
      "outputs": [
        {
          "data": {
            "image/png": "[encoded data removed]",
            "text/plain": [
              "<Figure size 432x288 with 1 Axes>"
            ]
          },
          "metadata": {},
          "output_type": "display_data"
        }
      ],
      "source": [
        "new_train_df['Company public response']=new_train_df['Company public response'].fillna('missing')\n",
        "binning_train_df['Company public response']=binning_train_df['Company public response'].fillna('missing')\n",
        "\n",
        "cpr=new_train_df.groupby(['Company public response'],as_index=False).count()[['Company public response','Issue']]\n",
        "\n",
        "y=np.arange(len(cpr['Company public response'].unique()))\n",
        "plt.barh(y,cpr['Issue'],0.2)\n",
        "plt.yticks(y,labels=cpr['Company public response'].unique())\n",
        "plt.show()"
      ]
    },
    {
      "cell_type": "code",
      "execution_count": null,
      "metadata": {
        "colab": {
          "base_uri": "https://localhost:8080/"
        },
        "id": "qbnUn7am1fy0",
        "outputId": "8ff10024-6c18-4960-8797-738f966f81a8"
      },
      "outputs": [
        {
          "data": {
            "text/plain": [
              "missing                                                                                            290879\n",
              "Company chooses not to provide a public response                                                    31526\n",
              "Company has responded to the consumer and the CFPB and chooses not to provide a public response     19268\n",
              "Company believes it acted appropriately as authorized by contract or law                            12055\n",
              "Others                                                                                               5082\n",
              "Name: Company public response, dtype: int64"
            ]
          },
          "execution_count": 103,
          "metadata": {},
          "output_type": "execute_result"
        }
      ],
      "source": [
        "cpr=binning_train_df['Company public response'].value_counts().reset_index()\n",
        "cpr['Percentage']=cpr['Company public response'].map(lambda x: (x/358810)*100)\n",
        "binning_train_df['Company public response']=binning_train_df['Company public response'].replace([cpr[cpr['Percentage']<1]['index']],'Others')\n",
        "binning_train_df['Company public response'].value_counts()"
      ]
    },
    {
      "cell_type": "markdown",
      "metadata": {
        "id": "KqcCmQLbxFxD"
      },
      "source": [
        "**Consumer consent provided?** column"
      ]
    },
    {
      "cell_type": "code",
      "execution_count": null,
      "metadata": {
        "colab": {
          "base_uri": "https://localhost:8080/",
          "height": 513
        },
        "id": "BugC7zW_xP1N",
        "outputId": "6915eea2-6ff6-4da1-dca4-cbc716334db0"
      },
      "outputs": [
        {
          "data": {
            "image/png": "[encoded data removed]",
            "text/plain": [
              "<Figure size 576x576 with 1 Axes>"
            ]
          },
          "metadata": {},
          "output_type": "display_data"
        }
      ],
      "source": [
        "new_train_df['Consumer consent provided?']=new_train_df['Consumer consent provided?'].fillna('missing')\n",
        "binning_train_df['Consumer consent provided?']=binning_train_df['Consumer consent provided?'].fillna('missing')\n",
        "\n",
        "plt.figure(figsize=(8, 8))\n",
        "freq,bins,patches=plt.hist(x=new_train_df['Consumer consent provided?'])\n",
        "for bar in patches:\n",
        "  plt.annotate(bar.get_height(),xy=((bar.get_x(),bar.get_height())),size=15)\n",
        "\n",
        "plt.xlabel(\"Consumer Consent\")\n",
        "plt.ylabel(\"Frequency\")\n",
        "plt.title(\"Consumer Consent Provided vs Frequency\")\n",
        "plt.show()"
      ]
    },
    {
      "cell_type": "code",
      "execution_count": null,
      "metadata": {
        "colab": {
          "base_uri": "https://localhost:8080/"
        },
        "id": "EgSPQ8ND4N91",
        "outputId": "2889ed02-dd38-4b09-d672-0d025fc914d8"
      },
      "outputs": [
        {
          "data": {
            "text/plain": [
              "missing                                                                                            290879\n",
              "Company chooses not to provide a public response                                                    31526\n",
              "Company has responded to the consumer and the CFPB and chooses not to provide a public response     19268\n",
              "Company believes it acted appropriately as authorized by contract or law                            12055\n",
              "Others                                                                                               5082\n",
              "Name: Company public response, dtype: int64"
            ]
          },
          "execution_count": 105,
          "metadata": {},
          "output_type": "execute_result"
        }
      ],
      "source": [
        "ccp=binning_train_df['Consumer consent provided?'].value_counts().reset_index()\n",
        "ccp['Percentage']=ccp['Consumer consent provided?'].map(lambda x: (x/358810)*100)\n",
        "binning_train_df['Consumer consent provided?']=binning_train_df['Consumer consent provided?'].replace([ccp[ccp['Percentage']<1]['index']],'Others')\n",
        "binning_train_df['Company public response'].value_counts()"
      ]
    },
    {
      "cell_type": "markdown",
      "metadata": {
        "id": "Q1Ijw4ajyGyi"
      },
      "source": [
        "**Submitted via** column"
      ]
    },
    {
      "cell_type": "code",
      "execution_count": null,
      "metadata": {
        "colab": {
          "base_uri": "https://localhost:8080/",
          "height": 483
        },
        "id": "yTCM7tlAyMsc",
        "outputId": "4c83d944-4bcd-4b69-8ed6-525b5a25520e"
      },
      "outputs": [
        {
          "data": {
            "image/png": "[encoded data removed]",
            "text/plain": [
              "<Figure size 576x576 with 1 Axes>"
            ]
          },
          "metadata": {},
          "output_type": "display_data"
        }
      ],
      "source": [
        "plt.figure(figsize=(8,8))\n",
        "freq,bins,patches=plt.hist(new_train_df['Submitted via'],bins=6)\n",
        "for bar in patches:\n",
        "  plt.annotate(bar.get_height(),xy=(bar.get_x(),bar.get_height()),size=13)\n",
        "plt.show()"
      ]
    },
    {
      "cell_type": "markdown",
      "metadata": {
        "id": "1yzZY0zYzwm6"
      },
      "source": [
        "65% of issues are received through Website. "
      ]
    },
    {
      "cell_type": "code",
      "execution_count": null,
      "metadata": {
        "colab": {
          "base_uri": "https://localhost:8080/"
        },
        "id": "Ul-BNW0zwT1l",
        "outputId": "515db615-e9b0-4dd6-b7ea-adbd913b3a92"
      },
      "outputs": [
        {
          "data": {
            "text/plain": [
              "0              Web\n",
              "1              Web\n",
              "2           Others\n",
              "3         Referral\n",
              "4              Web\n",
              "            ...   \n",
              "358805         Web\n",
              "358806    Referral\n",
              "358807         Web\n",
              "358808      Others\n",
              "358809    Referral\n",
              "Name: Submitted via, Length: 358810, dtype: object"
            ]
          },
          "execution_count": 98,
          "metadata": {},
          "output_type": "execute_result"
        }
      ],
      "source": [
        "channel_df=new_train_df['Submitted via'].value_counts().reset_index()\n",
        "channel_df['percentage']=channel_df['Submitted via'].map(lambda x: (x/358810)*100)\n",
        "binning_train_df['Submitted via']=binning_train_df['Submitted via'].replace([channel_df[channel_df['percentage']<14]['index']],'Others')\n",
        "binning_train_df['Submitted via']"
      ]
    },
    {
      "cell_type": "markdown",
      "metadata": {
        "id": "BHM5gkjb7HoI"
      },
      "source": [
        "**Company response to Consumer** column"
      ]
    },
    {
      "cell_type": "code",
      "execution_count": null,
      "metadata": {
        "colab": {
          "base_uri": "https://localhost:8080/",
          "height": 237
        },
        "id": "qA-p3cdc7HJ1",
        "outputId": "6f77c44f-7a4e-416b-c87b-8d2eb3b40fad"
      },
      "outputs": [
        {
          "data": {
            "text/html": [
              "\n",
              "  <div id=\"df-4071de9c-24ea-47cf-afc6-2ea9c0837310\">\n",
              "    <div class=\"colab-df-container\">\n",
              "      <div>\n",
              "<style scoped>\n",
              "    .dataframe tbody tr th:only-of-type {\n",
              "        vertical-align: middle;\n",
              "    }\n",
              "\n",
              "    .dataframe tbody tr th {\n",
              "        vertical-align: top;\n",
              "    }\n",
              "\n",
              "    .dataframe thead th {\n",
              "        text-align: right;\n",
              "    }\n",
              "</style>\n",
              "<table border=\"1\" class=\"dataframe\">\n",
              "  <thead>\n",
              "    <tr style=\"text-align: right;\">\n",
              "      <th></th>\n",
              "      <th>Company response to consumer</th>\n",
              "      <th>Issue</th>\n",
              "      <th>percentage</th>\n",
              "    </tr>\n",
              "  </thead>\n",
              "  <tbody>\n",
              "    <tr>\n",
              "      <th>0</th>\n",
              "      <td>Closed</td>\n",
              "      <td>8568</td>\n",
              "      <td>2.387893</td>\n",
              "    </tr>\n",
              "    <tr>\n",
              "      <th>1</th>\n",
              "      <td>Closed with explanation</td>\n",
              "      <td>265700</td>\n",
              "      <td>74.050333</td>\n",
              "    </tr>\n",
              "    <tr>\n",
              "      <th>2</th>\n",
              "      <td>Closed with monetary relief</td>\n",
              "      <td>24715</td>\n",
              "      <td>6.888047</td>\n",
              "    </tr>\n",
              "    <tr>\n",
              "      <th>3</th>\n",
              "      <td>Closed with non-monetary relief</td>\n",
              "      <td>46085</td>\n",
              "      <td>12.843845</td>\n",
              "    </tr>\n",
              "    <tr>\n",
              "      <th>4</th>\n",
              "      <td>Closed with relief</td>\n",
              "      <td>3138</td>\n",
              "      <td>0.874558</td>\n",
              "    </tr>\n",
              "    <tr>\n",
              "      <th>5</th>\n",
              "      <td>Closed without relief</td>\n",
              "      <td>10604</td>\n",
              "      <td>2.955325</td>\n",
              "    </tr>\n",
              "  </tbody>\n",
              "</table>\n",
              "</div>\n",
              "      <button class=\"colab-df-convert\" onclick=\"convertToInteractive('df-4071de9c-24ea-47cf-afc6-2ea9c0837310')\"\n",
              "              title=\"Convert this dataframe to an interactive table.\"\n",
              "              style=\"display:none;\">\n",
              "        \n",
              "  <svg xmlns=\"http://www.w3.org/2000/svg\" height=\"24px\"viewBox=\"0 0 24 24\"\n",
              "       width=\"24px\">\n",
              "    <path d=\"M0 0h24v24H0V0z\" fill=\"none\"/>\n",
              "    <path d=\"M18.56 5.44l.94 2.06.94-2.06 2.06-.94-2.06-.94-.94-2.06-.94 2.06-2.06.94zm-11 1L8.5 8.5l.94-2.06 2.06-.94-2.06-.94L8.5 2.5l-.94 2.06-2.06.94zm10 10l.94 2.06.94-2.06 2.06-.94-2.06-.94-.94-2.06-.94 2.06-2.06.94z\"/><path d=\"M17.41 7.96l-1.37-1.37c-.4-.4-.92-.59-1.43-.59-.52 0-1.04.2-1.43.59L10.3 9.45l-7.72 7.72c-.78.78-.78 2.05 0 2.83L4 21.41c.39.39.9.59 1.41.59.51 0 1.02-.2 1.41-.59l7.78-7.78 2.81-2.81c.8-.78.8-2.07 0-2.86zM5.41 20L4 18.59l7.72-7.72 1.47 1.35L5.41 20z\"/>\n",
              "  </svg>\n",
              "      </button>\n",
              "      \n",
              "  <style>\n",
              "    .colab-df-container {\n",
              "      display:flex;\n",
              "      flex-wrap:wrap;\n",
              "      gap: 12px;\n",
              "    }\n",
              "\n",
              "    .colab-df-convert {\n",
              "      background-color: #E8F0FE;\n",
              "      border: none;\n",
              "      border-radius: 50%;\n",
              "      cursor: pointer;\n",
              "      display: none;\n",
              "      fill: #1967D2;\n",
              "      height: 32px;\n",
              "      padding: 0 0 0 0;\n",
              "      width: 32px;\n",
              "    }\n",
              "\n",
              "    .colab-df-convert:hover {\n",
              "      background-color: #E2EBFA;\n",
              "      box-shadow: 0px 1px 2px rgba(60, 64, 67, 0.3), 0px 1px 3px 1px rgba(60, 64, 67, 0.15);\n",
              "      fill: #174EA6;\n",
              "    }\n",
              "\n",
              "    [theme=dark] .colab-df-convert {\n",
              "      background-color: #3B4455;\n",
              "      fill: #D2E3FC;\n",
              "    }\n",
              "\n",
              "    [theme=dark] .colab-df-convert:hover {\n",
              "      background-color: #434B5C;\n",
              "      box-shadow: 0px 1px 3px 1px rgba(0, 0, 0, 0.15);\n",
              "      filter: drop-shadow(0px 1px 2px rgba(0, 0, 0, 0.3));\n",
              "      fill: #FFFFFF;\n",
              "    }\n",
              "  </style>\n",
              "\n",
              "      <script>\n",
              "        const buttonEl =\n",
              "          document.querySelector('#df-4071de9c-24ea-47cf-afc6-2ea9c0837310 button.colab-df-convert');\n",
              "        buttonEl.style.display =\n",
              "          google.colab.kernel.accessAllowed ? 'block' : 'none';\n",
              "\n",
              "        async function convertToInteractive(key) {\n",
              "          const element = document.querySelector('#df-4071de9c-24ea-47cf-afc6-2ea9c0837310');\n",
              "          const dataTable =\n",
              "            await google.colab.kernel.invokeFunction('convertToInteractive',\n",
              "                                                     [key], {});\n",
              "          if (!dataTable) return;\n",
              "\n",
              "          const docLinkHtml = 'Like what you see? Visit the ' +\n",
              "            '<a target=\"_blank\" href=https://colab.research.google.com/notebooks/data_table.ipynb>data table notebook</a>'\n",
              "            + ' to learn more about interactive tables.';\n",
              "          element.innerHTML = '';\n",
              "          dataTable['output_type'] = 'display_data';\n",
              "          await google.colab.output.renderOutput(dataTable, element);\n",
              "          const docLink = document.createElement('div');\n",
              "          docLink.innerHTML = docLinkHtml;\n",
              "          element.appendChild(docLink);\n",
              "        }\n",
              "      </script>\n",
              "    </div>\n",
              "  </div>\n",
              "  "
            ],
            "text/plain": [
              "      Company response to consumer   Issue  percentage\n",
              "0                           Closed    8568    2.387893\n",
              "1          Closed with explanation  265700   74.050333\n",
              "2      Closed with monetary relief   24715    6.888047\n",
              "3  Closed with non-monetary relief   46085   12.843845\n",
              "4               Closed with relief    3138    0.874558\n",
              "5            Closed without relief   10604    2.955325"
            ]
          },
          "execution_count": 59,
          "metadata": {},
          "output_type": "execute_result"
        }
      ],
      "source": [
        "crc=new_train_df.groupby(['Company response to consumer'],as_index=False)['Issue'].count()\n",
        "crc['percentage']=crc['Issue'].map(lambda x: (x/new_train_df.shape[0])*100)\n",
        "crc"
      ]
    },
    {
      "cell_type": "code",
      "execution_count": null,
      "metadata": {
        "colab": {
          "base_uri": "https://localhost:8080/"
        },
        "id": "wFxjkJCF9HE_",
        "outputId": "5272dcf7-f1c9-4821-ae44-da1448dad862"
      },
      "outputs": [
        {
          "data": {
            "text/plain": [
              "Closed with explanation            265700\n",
              "Closed with non-monetary relief     46085\n",
              "Closed with monetary relief         24715\n",
              "Others                              22310\n",
              "Name: Company response to consumer, dtype: int64"
            ]
          },
          "execution_count": 99,
          "metadata": {},
          "output_type": "execute_result"
        }
      ],
      "source": [
        "binning_train_df['Company response to consumer']=binning_train_df['Company response to consumer'].replace([crc[crc['percentage']<5]['Company response to consumer']],'Others')\n",
        "binning_train_df['Company response to consumer'].value_counts()"
      ]
    },
    {
      "cell_type": "markdown",
      "metadata": {
        "id": "-5luqKpN0Eiq"
      },
      "source": [
        "**Timely response?** column"
      ]
    },
    {
      "cell_type": "code",
      "execution_count": null,
      "metadata": {
        "colab": {
          "base_uri": "https://localhost:8080/",
          "height": 265
        },
        "id": "CO7vjQWV0I4T",
        "outputId": "e6f2f8e1-1af3-4868-c723-a3b0f6a3b0c8"
      },
      "outputs": [
        {
          "data": {
            "image/png": "[encoded data removed]",
            "text/plain": [
              "<Figure size 432x288 with 1 Axes>"
            ]
          },
          "metadata": {},
          "output_type": "display_data"
        }
      ],
      "source": [
        "freq,bins,patches=plt.hist(new_train_df['Timely response?'],bins=2)\n",
        "for bar in patches:\n",
        "  plt.annotate(bar.get_height(),xy=(bar.get_x(),bar.get_height()),size=13)\n",
        "plt.show()"
      ]
    },
    {
      "cell_type": "markdown",
      "metadata": {
        "id": "n3TYGClZ0yEX"
      },
      "source": [
        "Company has responded timely manner for almost 98% of issues"
      ]
    },
    {
      "cell_type": "markdown",
      "metadata": {
        "id": "E6PQKlNY1cNx"
      },
      "source": [
        "**Bivariate Analysis**"
      ]
    },
    {
      "cell_type": "markdown",
      "metadata": {
        "id": "jtU8cUHd1fUO"
      },
      "source": [
        "1.**Company public response vs Consumer disputed?**"
      ]
    },
    {
      "cell_type": "code",
      "execution_count": null,
      "metadata": {
        "colab": {
          "base_uri": "https://localhost:8080/",
          "height": 352
        },
        "id": "RbIkGvvgERQa",
        "outputId": "d69ea47d-9818-4206-ceed-667cc825917f"
      },
      "outputs": [
        {
          "data": {
            "text/plain": [
              "Text(0.5, 0, 'No of Issues')"
            ]
          },
          "execution_count": 17,
          "metadata": {},
          "output_type": "execute_result"
        },
        {
          "data": {
            "image/png": "[encoded data removed]",
            "text/plain": [
              "<Figure size 720x360 with 1 Axes>"
            ]
          },
          "metadata": {},
          "output_type": "display_data"
        }
      ],
      "source": [
        "'''\n",
        "To see the dispute vs non disputes for the below response\n",
        "1. get the records that are disputed for the company response\n",
        "2. get the records that are non disputed for the company response\n",
        "3. plt the bar graph for each category\n",
        "'''\n",
        "\n",
        "a_df=new_train_df.groupby(['Company public response','Consumer disputed?'],as_index=False).count()[['Company public response','Consumer disputed?','Issue']]\n",
        "disputed=a_df[a_df['Consumer disputed?']=='Yes']\n",
        "not_disputed=a_df[a_df['Consumer disputed?']=='No']\n",
        "\n",
        "\n",
        "x=np.arange(len(a_df['Company public response'].unique()))\n",
        "plt.figure(figsize=(10,5))\n",
        "plt.barh(x,disputed['Issue'],0.2,label='disputed')\n",
        "plt.barh(x+0.2,not_disputed['Issue'],0.2,label='Not disputed')\n",
        "\n",
        "plt.yticks(x+0.2,labels=disputed['Company public response'])\n",
        "plt.legend()\n",
        "plt.ylabel('Company public response')\n",
        "plt.xlabel('No of Issues')"
      ]
    },
    {
      "cell_type": "markdown",
      "metadata": {
        "id": "QeYPalP017Vp"
      },
      "source": [
        "In all categories of Consumer Public response, we have disputed records. From above figure proportion of dispute and non dispute seems to remain same irrespective of any value"
      ]
    },
    {
      "cell_type": "markdown",
      "metadata": {
        "id": "9x-NvcyKykP0"
      },
      "source": [
        " **Consumer Consent Provided vs Consumer disputed?**"
      ]
    },
    {
      "cell_type": "code",
      "execution_count": null,
      "metadata": {
        "colab": {
          "base_uri": "https://localhost:8080/",
          "height": 279
        },
        "id": "I_YNvIZbyjuz",
        "outputId": "14cb4295-5b41-4d4c-8310-7dd543234b78"
      },
      "outputs": [
        {
          "data": {
            "image/png": "[encoded data removed]",
            "text/plain": [
              "<Figure size 432x288 with 1 Axes>"
            ]
          },
          "metadata": {},
          "output_type": "display_data"
        }
      ],
      "source": [
        "cc=new_train_df.groupby(['Consumer disputed?','Consumer consent provided?'],as_index=False).count()[['Consumer consent provided?','Consumer disputed?','Issue']]\n",
        "disputed_cc=cc[cc['Consumer disputed?']=='Yes']\n",
        "nondisputed_cc=cc[cc['Consumer disputed?']=='No']\n",
        "\n",
        "\n",
        "line=pd.DataFrame({'Consumer consent provided?':'Consent withdrawn','Consumer disputed?':'Yes', 'Issue':0},index=[7])  # adding a row\n",
        "disputed_cc=pd.concat([disputed_cc.loc[:6],line,disputed_cc.loc[7:]]).reset_index(drop=True)\n",
        "\n",
        "\n",
        "plt.barh(x,nondisputed_cc['Issue'],0.2,label='Not disputed')\n",
        "plt.barh(x-0.2,disputed_cc['Issue'],0.2,label='disputed')\n",
        "plt.yticks(x,labels=cc['Consumer consent provided?'].unique())\n",
        "plt.xlabel('No of Issues')\n",
        "plt.ylabel('Consumer consent provided?')\n",
        "plt.legend()\n",
        "plt.show()"
      ]
    },
    {
      "cell_type": "markdown",
      "metadata": {
        "id": "art8Zjjn5AEE"
      },
      "source": [
        "disputed and not disputed proportion is same irrespective of values in Consumer Consent Provided column."
      ]
    },
    {
      "cell_type": "markdown",
      "metadata": {
        "id": "CAQGO4fl3J6Y"
      },
      "source": [
        "**Timely response?**"
      ]
    },
    {
      "cell_type": "code",
      "execution_count": null,
      "metadata": {
        "colab": {
          "base_uri": "https://localhost:8080/",
          "height": 279
        },
        "id": "S4C4-LRh3Olg",
        "outputId": "914c09c1-23d5-4e40-9ded-d9d8be1dac0c"
      },
      "outputs": [
        {
          "data": {
            "image/png": "[encoded data removed]",
            "text/plain": [
              "<Figure size 432x288 with 1 Axes>"
            ]
          },
          "metadata": {},
          "output_type": "display_data"
        }
      ],
      "source": [
        "tr=new_train_df.groupby(['Consumer disputed?','Timely response?'],as_index=False).count()[['Timely response?','Consumer disputed?','Issue']]\n",
        "disputed_tr=tr[tr['Consumer disputed?']=='Yes']\n",
        "nondisputed_tr=tr[tr['Consumer disputed?']=='No']\n",
        "\n",
        "x=np.arange(len(disputed_tr['Timely response?'].unique()))\n",
        "\n",
        "plt.barh(x,nondisputed_tr['Issue'],0.2,label='Not disputed')\n",
        "plt.barh(x-0.2,disputed_tr['Issue'],0.2,label='disputed')\n",
        "plt.yticks(x,labels=tr['Timely response?'].unique())\n",
        "plt.xlabel('No of Issues')\n",
        "plt.ylabel('Timely response?')\n",
        "plt.legend()\n",
        "plt.show()"
      ]
    },
    {
      "cell_type": "markdown",
      "metadata": {
        "id": "uX1_QjX25beN"
      },
      "source": [
        "Timely response doesnt change Consumer dispute status"
      ]
    },
    {
      "cell_type": "markdown",
      "metadata": {
        "id": "jz-XXcHnGUf8"
      },
      "source": [
        "**Sub-product vs Consumer disputed?**"
      ]
    },
    {
      "cell_type": "code",
      "execution_count": null,
      "metadata": {
        "colab": {
          "base_uri": "https://localhost:8080/",
          "height": 877
        },
        "id": "gT01pDiz5kSJ",
        "outputId": "57d14dc9-5810-47b4-e80e-17fe7657ccf7"
      },
      "outputs": [
        {
          "data": {
            "image/png": "[encoded data removed]",
            "text/plain": [
              "<Figure size 576x1080 with 1 Axes>"
            ]
          },
          "metadata": {},
          "output_type": "display_data"
        }
      ],
      "source": [
        "sp=new_train_df.groupby(['Consumer disputed?','Sub-product'],as_index=False).count()[['Sub-product','Consumer disputed?','Issue']]\n",
        "disputed_sp=sp[sp['Consumer disputed?']=='Yes']\n",
        "nondisputed_sp=sp[sp['Consumer disputed?']=='No']\n",
        "\n",
        "line=pd.DataFrame({'Sub-product':'Electronic Benefit Transfer / EBT card','Consumer disputed?':'Yes', 'Issue':0},index=[58])  # adding a row\n",
        "disputed_sp=pd.concat([disputed_sp.loc[:57],line,disputed_sp.loc[58:]]).reset_index(drop=True)\n",
        "\n",
        "x=np.arange(len(disputed_sp['Sub-product'].unique()))\n",
        "\n",
        "plt.figure(figsize=(8,15))\n",
        "plt.barh(x,nondisputed_sp['Issue'],0.2,label='Not disputed')\n",
        "plt.barh(x-0.2,disputed_sp['Issue'],0.2,label='disputed')\n",
        "plt.yticks(x,labels=sp['Sub-product'].unique())\n",
        "plt.xlabel('No of Issues')\n",
        "plt.ylabel('Sub-product')\n",
        "plt.legend()\n",
        "plt.show()"
      ]
    },
    {
      "cell_type": "markdown",
      "metadata": {
        "id": "RuWzqR2i--Lk"
      },
      "source": [
        "Sub-product and sub-issue are dependent on Product and Issue column. So those missing values falls under MNAR (Missing Not at Random) because, its not available only for few product categories. Also from above plot, disputes happened equally in all kind of subproducts. \n",
        "\n",
        "So lets drop these 2 columns"
      ]
    },
    {
      "cell_type": "code",
      "execution_count": null,
      "metadata": {
        "id": "wfSunrlHOdmq"
      },
      "outputs": [],
      "source": [
        "#new_train_df.drop(['Sub-product','Sub-issue'],axis=1,inplace=True)"
      ]
    },
    {
      "cell_type": "code",
      "execution_count": null,
      "metadata": {
        "colab": {
          "base_uri": "https://localhost:8080/"
        },
        "id": "o04cROsVQSed",
        "outputId": "572c7e2d-89c4-46b5-aafc-dd503449f2ba"
      },
      "outputs": [
        {
          "data": {
            "text/plain": [
              "Date received                   0\n",
              "Product                         0\n",
              "Sub-product                     0\n",
              "Issue                           0\n",
              "Sub-issue                       0\n",
              "Company public response         0\n",
              "Company                         0\n",
              "State                           0\n",
              "Tags                            0\n",
              "Consumer consent provided?      0\n",
              "Submitted via                   0\n",
              "Date sent to company            0\n",
              "Company response to consumer    0\n",
              "Timely response?                0\n",
              "Consumer disputed?              0\n",
              "dtype: int64"
            ]
          },
          "execution_count": 51,
          "metadata": {},
          "output_type": "execute_result"
        }
      ],
      "source": [
        "new_train_df.isnull().sum()"
      ]
    },
    {
      "cell_type": "markdown",
      "metadata": {
        "id": "NPCUlKJZ_eWa"
      },
      "source": [
        "**Imputation**"
      ]
    },
    {
      "cell_type": "code",
      "execution_count": null,
      "metadata": {
        "id": "ir4kyGrImTew"
      },
      "outputs": [],
      "source": [
        "StateImpute(new_train_df)"
      ]
    },
    {
      "cell_type": "code",
      "execution_count": null,
      "metadata": {
        "id": "RqhmOaeXggyW"
      },
      "outputs": [],
      "source": [
        "new_train_df['Company public response'].fillna('UNKNOWN',inplace=True)\n",
        "new_train_df['Consumer consent provided?'].fillna('UNKNOWN',inplace=True)"
      ]
    },
    {
      "cell_type": "code",
      "execution_count": null,
      "metadata": {
        "id": "E3SFmPr9d5a1"
      },
      "outputs": [],
      "source": [
        "new_train_df['Tags'].fillna('UNKNOWN',inplace=True)"
      ]
    },
    {
      "cell_type": "code",
      "execution_count": null,
      "metadata": {
        "id": "3waUHg8sd9XZ"
      },
      "outputs": [],
      "source": [
        "for p in new_train_df.Product.unique():\n",
        "  val='UNKNOWN '+p\n",
        "  m1=(new_train_df['Product']==p)\n",
        "  m2=(new_train_df['Product']==p)\n",
        "  new_train_df.loc[m1,'Sub-product']=new_train_df.loc[m1,'Sub-product'].fillna(val)\n",
        "  new_train_df.loc[m1,'Sub-issue']=new_train_df.loc[m2,'Sub-issue'].fillna(val)"
      ]
    },
    {
      "cell_type": "code",
      "execution_count": null,
      "metadata": {
        "colab": {
          "base_uri": "https://localhost:8080/"
        },
        "id": "MUEPTE3Ee6py",
        "outputId": "7ac4d1dd-1607-4f25-9df4-530ba3e7b90a"
      },
      "outputs": [
        {
          "data": {
            "text/plain": [
              "Date received                   0\n",
              "Product                         0\n",
              "Sub-product                     0\n",
              "Issue                           0\n",
              "Sub-issue                       0\n",
              "Company public response         0\n",
              "Company                         0\n",
              "State                           0\n",
              "Tags                            0\n",
              "Consumer consent provided?      0\n",
              "Submitted via                   0\n",
              "Date sent to company            0\n",
              "Company response to consumer    0\n",
              "Timely response?                0\n",
              "Consumer disputed?              0\n",
              "dtype: int64"
            ]
          },
          "execution_count": 19,
          "metadata": {},
          "output_type": "execute_result"
        }
      ],
      "source": [
        "new_train_df.isnull().sum()"
      ]
    },
    {
      "cell_type": "markdown",
      "metadata": {
        "id": "xmF2HJWt6gh5"
      },
      "source": [
        "**Feature Engineering**"
      ]
    },
    {
      "cell_type": "code",
      "execution_count": null,
      "metadata": {
        "id": "jipHTnLuomVM"
      },
      "outputs": [],
      "source": [
        "Month_Year_WeekDay(new_train_df)"
      ]
    },
    {
      "cell_type": "code",
      "execution_count": null,
      "metadata": {
        "id": "NuH2eVL8gHyQ"
      },
      "outputs": [],
      "source": [
        "new_train_df = encode(new_train_df,'Day_of_Week',7)\n",
        "new_train_df.drop(['Day_of_Week'],axis=1,inplace=True)"
      ]
    },
    {
      "cell_type": "code",
      "execution_count": null,
      "metadata": {
        "id": "iTpfbLJWA2tp"
      },
      "outputs": [],
      "source": [
        "te_train_df=new_train_df.copy()"
      ]
    },
    {
      "cell_type": "markdown",
      "metadata": {
        "id": "feFG9GpMGcqR"
      },
      "source": [
        "**Handling Categorical Values**"
      ]
    },
    {
      "cell_type": "markdown",
      "metadata": {
        "id": "PyiDDbtm6O8T"
      },
      "source": [
        "**Method:1 Label encoding**"
      ]
    },
    {
      "cell_type": "code",
      "execution_count": null,
      "metadata": {
        "id": "3-xOaqNq29Rk"
      },
      "outputs": [],
      "source": [
        "new_train_df['Product'] =new_train_df['Product'].astype('category').cat.codes\n",
        "new_train_df['Sub-product'] =new_train_df['Sub-product'].astype('category').cat.codes\n",
        "new_train_df['Issue'] =new_train_df['Issue'].astype('category').cat.codes\n",
        "new_train_df['Sub-issue'] =new_train_df['Sub-product'].astype('category').cat.codes\n",
        "new_train_df['Tags'] =new_train_df['Sub-product'].astype('category').cat.codes\n",
        "new_train_df['Company'] =new_train_df['Company'].astype('category').cat.codes \n",
        "new_train_df['Company public response'] =new_train_df['Company public response'].astype('category').cat.codes\n",
        "new_train_df['Consumer consent provided?'] =new_train_df['Consumer consent provided?'].astype('category').cat.codes\n",
        "new_train_df['State'] =new_train_df['State'].astype('category').cat.codes\n",
        "new_train_df['Submitted via'] =new_train_df['Submitted via'].astype('category').cat.codes\n",
        "new_train_df['Company response to consumer'] =new_train_df['Company response to consumer'].astype('category').cat.codes\n",
        "new_train_df['Timely response?'] =new_train_df['Timely response?'].astype('category').cat.codes"
      ]
    },
    {
      "cell_type": "code",
      "execution_count": null,
      "metadata": {
        "id": "gX6vP9o39F_b"
      },
      "outputs": [],
      "source": [
        "mapTargetVariable(new_train_df,'Consumer disputed?')"
      ]
    },
    {
      "cell_type": "code",
      "execution_count": null,
      "metadata": {
        "colab": {
          "base_uri": "https://localhost:8080/"
        },
        "id": "zJW-mqmEk6o-",
        "outputId": "5ab066a6-c7af-4f06-a05e-1202691bca12"
      },
      "outputs": [
        {
          "data": {
            "text/plain": [
              "Product                            int8\n",
              "Sub-product                        int8\n",
              "Issue                              int8\n",
              "Sub-issue                          int8\n",
              "Company public response            int8\n",
              "Company                           int16\n",
              "State                              int8\n",
              "Tags                               int8\n",
              "Consumer consent provided?         int8\n",
              "Submitted via                      int8\n",
              "Company response to consumer       int8\n",
              "Timely response?                   int8\n",
              "Consumer disputed?                int64\n",
              "Day_of_Week sin                 float64\n",
              "Day_of_Week cos                 float64\n",
              "dtype: object"
            ]
          },
          "execution_count": 71,
          "metadata": {},
          "output_type": "execute_result"
        }
      ],
      "source": [
        "new_train_df.dtypes"
      ]
    },
    {
      "cell_type": "code",
      "execution_count": null,
      "metadata": {
        "colab": {
          "base_uri": "https://localhost:8080/",
          "height": 284
        },
        "id": "WNQX6F6987FQ",
        "outputId": "f1bdc828-41d9-4528-d41c-0fcdb5835055"
      },
      "outputs": [
        {
          "data": {
            "text/html": [
              "\n",
              "  <div id=\"df-d85d072b-b89d-485c-b830-a6d6a0b371d1\">\n",
              "    <div class=\"colab-df-container\">\n",
              "      <div>\n",
              "<style scoped>\n",
              "    .dataframe tbody tr th:only-of-type {\n",
              "        vertical-align: middle;\n",
              "    }\n",
              "\n",
              "    .dataframe tbody tr th {\n",
              "        vertical-align: top;\n",
              "    }\n",
              "\n",
              "    .dataframe thead th {\n",
              "        text-align: right;\n",
              "    }\n",
              "</style>\n",
              "<table border=\"1\" class=\"dataframe\">\n",
              "  <thead>\n",
              "    <tr style=\"text-align: right;\">\n",
              "      <th></th>\n",
              "      <th>Product</th>\n",
              "      <th>Sub-product</th>\n",
              "      <th>Issue</th>\n",
              "      <th>Sub-issue</th>\n",
              "      <th>Company public response</th>\n",
              "      <th>Company</th>\n",
              "      <th>State</th>\n",
              "      <th>Tags</th>\n",
              "      <th>Consumer consent provided?</th>\n",
              "      <th>Submitted via</th>\n",
              "      <th>Company response to consumer</th>\n",
              "      <th>Timely response?</th>\n",
              "      <th>Consumer disputed?</th>\n",
              "      <th>Day_of_Week sin</th>\n",
              "      <th>Day_of_Week cos</th>\n",
              "    </tr>\n",
              "  </thead>\n",
              "  <tbody>\n",
              "    <tr>\n",
              "      <th>0</th>\n",
              "      <td>3</td>\n",
              "      <td>45</td>\n",
              "      <td>52</td>\n",
              "      <td>45</td>\n",
              "      <td>10</td>\n",
              "      <td>998</td>\n",
              "      <td>15</td>\n",
              "      <td>45</td>\n",
              "      <td>0</td>\n",
              "      <td>5</td>\n",
              "      <td>1</td>\n",
              "      <td>1</td>\n",
              "      <td>0</td>\n",
              "      <td>0.433884</td>\n",
              "      <td>-0.900969</td>\n",
              "    </tr>\n",
              "    <tr>\n",
              "      <th>1</th>\n",
              "      <td>0</td>\n",
              "      <td>30</td>\n",
              "      <td>39</td>\n",
              "      <td>30</td>\n",
              "      <td>10</td>\n",
              "      <td>2986</td>\n",
              "      <td>15</td>\n",
              "      <td>30</td>\n",
              "      <td>1</td>\n",
              "      <td>5</td>\n",
              "      <td>1</td>\n",
              "      <td>1</td>\n",
              "      <td>1</td>\n",
              "      <td>0.000000</td>\n",
              "      <td>1.000000</td>\n",
              "    </tr>\n",
              "    <tr>\n",
              "      <th>2</th>\n",
              "      <td>2</td>\n",
              "      <td>44</td>\n",
              "      <td>68</td>\n",
              "      <td>44</td>\n",
              "      <td>10</td>\n",
              "      <td>623</td>\n",
              "      <td>50</td>\n",
              "      <td>44</td>\n",
              "      <td>4</td>\n",
              "      <td>2</td>\n",
              "      <td>3</td>\n",
              "      <td>1</td>\n",
              "      <td>0</td>\n",
              "      <td>-0.974928</td>\n",
              "      <td>-0.222521</td>\n",
              "    </tr>\n",
              "    <tr>\n",
              "      <th>3</th>\n",
              "      <td>4</td>\n",
              "      <td>29</td>\n",
              "      <td>40</td>\n",
              "      <td>29</td>\n",
              "      <td>9</td>\n",
              "      <td>1031</td>\n",
              "      <td>43</td>\n",
              "      <td>29</td>\n",
              "      <td>4</td>\n",
              "      <td>4</td>\n",
              "      <td>1</td>\n",
              "      <td>1</td>\n",
              "      <td>0</td>\n",
              "      <td>-0.433884</td>\n",
              "      <td>-0.900969</td>\n",
              "    </tr>\n",
              "    <tr>\n",
              "      <th>4</th>\n",
              "      <td>4</td>\n",
              "      <td>24</td>\n",
              "      <td>40</td>\n",
              "      <td>24</td>\n",
              "      <td>10</td>\n",
              "      <td>1320</td>\n",
              "      <td>8</td>\n",
              "      <td>24</td>\n",
              "      <td>4</td>\n",
              "      <td>5</td>\n",
              "      <td>1</td>\n",
              "      <td>1</td>\n",
              "      <td>1</td>\n",
              "      <td>-0.974928</td>\n",
              "      <td>-0.222521</td>\n",
              "    </tr>\n",
              "  </tbody>\n",
              "</table>\n",
              "</div>\n",
              "      <button class=\"colab-df-convert\" onclick=\"convertToInteractive('df-d85d072b-b89d-485c-b830-a6d6a0b371d1')\"\n",
              "              title=\"Convert this dataframe to an interactive table.\"\n",
              "              style=\"display:none;\">\n",
              "        \n",
              "  <svg xmlns=\"http://www.w3.org/2000/svg\" height=\"24px\"viewBox=\"0 0 24 24\"\n",
              "       width=\"24px\">\n",
              "    <path d=\"M0 0h24v24H0V0z\" fill=\"none\"/>\n",
              "    <path d=\"M18.56 5.44l.94 2.06.94-2.06 2.06-.94-2.06-.94-.94-2.06-.94 2.06-2.06.94zm-11 1L8.5 8.5l.94-2.06 2.06-.94-2.06-.94L8.5 2.5l-.94 2.06-2.06.94zm10 10l.94 2.06.94-2.06 2.06-.94-2.06-.94-.94-2.06-.94 2.06-2.06.94z\"/><path d=\"M17.41 7.96l-1.37-1.37c-.4-.4-.92-.59-1.43-.59-.52 0-1.04.2-1.43.59L10.3 9.45l-7.72 7.72c-.78.78-.78 2.05 0 2.83L4 21.41c.39.39.9.59 1.41.59.51 0 1.02-.2 1.41-.59l7.78-7.78 2.81-2.81c.8-.78.8-2.07 0-2.86zM5.41 20L4 18.59l7.72-7.72 1.47 1.35L5.41 20z\"/>\n",
              "  </svg>\n",
              "      </button>\n",
              "      \n",
              "  <style>\n",
              "    .colab-df-container {\n",
              "      display:flex;\n",
              "      flex-wrap:wrap;\n",
              "      gap: 12px;\n",
              "    }\n",
              "\n",
              "    .colab-df-convert {\n",
              "      background-color: #E8F0FE;\n",
              "      border: none;\n",
              "      border-radius: 50%;\n",
              "      cursor: pointer;\n",
              "      display: none;\n",
              "      fill: #1967D2;\n",
              "      height: 32px;\n",
              "      padding: 0 0 0 0;\n",
              "      width: 32px;\n",
              "    }\n",
              "\n",
              "    .colab-df-convert:hover {\n",
              "      background-color: #E2EBFA;\n",
              "      box-shadow: 0px 1px 2px rgba(60, 64, 67, 0.3), 0px 1px 3px 1px rgba(60, 64, 67, 0.15);\n",
              "      fill: #174EA6;\n",
              "    }\n",
              "\n",
              "    [theme=dark] .colab-df-convert {\n",
              "      background-color: #3B4455;\n",
              "      fill: #D2E3FC;\n",
              "    }\n",
              "\n",
              "    [theme=dark] .colab-df-convert:hover {\n",
              "      background-color: #434B5C;\n",
              "      box-shadow: 0px 1px 3px 1px rgba(0, 0, 0, 0.15);\n",
              "      filter: drop-shadow(0px 1px 2px rgba(0, 0, 0, 0.3));\n",
              "      fill: #FFFFFF;\n",
              "    }\n",
              "  </style>\n",
              "\n",
              "      <script>\n",
              "        const buttonEl =\n",
              "          document.querySelector('#df-d85d072b-b89d-485c-b830-a6d6a0b371d1 button.colab-df-convert');\n",
              "        buttonEl.style.display =\n",
              "          google.colab.kernel.accessAllowed ? 'block' : 'none';\n",
              "\n",
              "        async function convertToInteractive(key) {\n",
              "          const element = document.querySelector('#df-d85d072b-b89d-485c-b830-a6d6a0b371d1');\n",
              "          const dataTable =\n",
              "            await google.colab.kernel.invokeFunction('convertToInteractive',\n",
              "                                                     [key], {});\n",
              "          if (!dataTable) return;\n",
              "\n",
              "          const docLinkHtml = 'Like what you see? Visit the ' +\n",
              "            '<a target=\"_blank\" href=https://colab.research.google.com/notebooks/data_table.ipynb>data table notebook</a>'\n",
              "            + ' to learn more about interactive tables.';\n",
              "          element.innerHTML = '';\n",
              "          dataTable['output_type'] = 'display_data';\n",
              "          await google.colab.output.renderOutput(dataTable, element);\n",
              "          const docLink = document.createElement('div');\n",
              "          docLink.innerHTML = docLinkHtml;\n",
              "          element.appendChild(docLink);\n",
              "        }\n",
              "      </script>\n",
              "    </div>\n",
              "  </div>\n",
              "  "
            ],
            "text/plain": [
              "   Product  Sub-product  ...  Day_of_Week sin  Day_of_Week cos\n",
              "0        3           45  ...         0.433884        -0.900969\n",
              "1        0           30  ...         0.000000         1.000000\n",
              "2        2           44  ...        -0.974928        -0.222521\n",
              "3        4           29  ...        -0.433884        -0.900969\n",
              "4        4           24  ...        -0.974928        -0.222521\n",
              "\n",
              "[5 rows x 15 columns]"
            ]
          },
          "execution_count": 72,
          "metadata": {},
          "output_type": "execute_result"
        }
      ],
      "source": [
        "new_train_df.head(5)"
      ]
    },
    {
      "cell_type": "markdown",
      "metadata": {
        "id": "b4qWBhvuGla2"
      },
      "source": [
        "**Feature Selection: Through Correlation**"
      ]
    },
    {
      "cell_type": "code",
      "execution_count": null,
      "metadata": {
        "colab": {
          "base_uri": "https://localhost:8080/",
          "height": 519
        },
        "id": "PQ0Ll28kulM5",
        "outputId": "bed8f1ce-1306-493c-e48d-7c62376e8c1d"
      },
      "outputs": [
        {
          "data": {
            "text/html": [
              "\n",
              "  <div id=\"df-803f2d43-a500-4cc6-b510-83e7edb19e7c\">\n",
              "    <div class=\"colab-df-container\">\n",
              "      <div>\n",
              "<style scoped>\n",
              "    .dataframe tbody tr th:only-of-type {\n",
              "        vertical-align: middle;\n",
              "    }\n",
              "\n",
              "    .dataframe tbody tr th {\n",
              "        vertical-align: top;\n",
              "    }\n",
              "\n",
              "    .dataframe thead th {\n",
              "        text-align: right;\n",
              "    }\n",
              "</style>\n",
              "<table border=\"1\" class=\"dataframe\">\n",
              "  <thead>\n",
              "    <tr style=\"text-align: right;\">\n",
              "      <th></th>\n",
              "      <th>index</th>\n",
              "      <th>Consumer disputed?</th>\n",
              "    </tr>\n",
              "  </thead>\n",
              "  <tbody>\n",
              "    <tr>\n",
              "      <th>10</th>\n",
              "      <td>Company response to consumer</td>\n",
              "      <td>-0.058281</td>\n",
              "    </tr>\n",
              "    <tr>\n",
              "      <th>1</th>\n",
              "      <td>Sub-product</td>\n",
              "      <td>-0.032738</td>\n",
              "    </tr>\n",
              "    <tr>\n",
              "      <th>3</th>\n",
              "      <td>Sub-issue</td>\n",
              "      <td>-0.032738</td>\n",
              "    </tr>\n",
              "    <tr>\n",
              "      <th>7</th>\n",
              "      <td>Tags</td>\n",
              "      <td>-0.032738</td>\n",
              "    </tr>\n",
              "    <tr>\n",
              "      <th>8</th>\n",
              "      <td>Consumer consent provided?</td>\n",
              "      <td>-0.024403</td>\n",
              "    </tr>\n",
              "    <tr>\n",
              "      <th>6</th>\n",
              "      <td>State</td>\n",
              "      <td>-0.007877</td>\n",
              "    </tr>\n",
              "    <tr>\n",
              "      <th>5</th>\n",
              "      <td>Company</td>\n",
              "      <td>0.000213</td>\n",
              "    </tr>\n",
              "    <tr>\n",
              "      <th>2</th>\n",
              "      <td>Issue</td>\n",
              "      <td>0.000467</td>\n",
              "    </tr>\n",
              "    <tr>\n",
              "      <th>13</th>\n",
              "      <td>Day_of_Week sin</td>\n",
              "      <td>0.000669</td>\n",
              "    </tr>\n",
              "    <tr>\n",
              "      <th>11</th>\n",
              "      <td>Timely response?</td>\n",
              "      <td>0.003859</td>\n",
              "    </tr>\n",
              "    <tr>\n",
              "      <th>4</th>\n",
              "      <td>Company public response</td>\n",
              "      <td>0.004469</td>\n",
              "    </tr>\n",
              "    <tr>\n",
              "      <th>14</th>\n",
              "      <td>Day_of_Week cos</td>\n",
              "      <td>0.020944</td>\n",
              "    </tr>\n",
              "    <tr>\n",
              "      <th>0</th>\n",
              "      <td>Product</td>\n",
              "      <td>0.021577</td>\n",
              "    </tr>\n",
              "    <tr>\n",
              "      <th>9</th>\n",
              "      <td>Submitted via</td>\n",
              "      <td>0.058920</td>\n",
              "    </tr>\n",
              "    <tr>\n",
              "      <th>12</th>\n",
              "      <td>Consumer disputed?</td>\n",
              "      <td>1.000000</td>\n",
              "    </tr>\n",
              "  </tbody>\n",
              "</table>\n",
              "</div>\n",
              "      <button class=\"colab-df-convert\" onclick=\"convertToInteractive('df-803f2d43-a500-4cc6-b510-83e7edb19e7c')\"\n",
              "              title=\"Convert this dataframe to an interactive table.\"\n",
              "              style=\"display:none;\">\n",
              "        \n",
              "  <svg xmlns=\"http://www.w3.org/2000/svg\" height=\"24px\"viewBox=\"0 0 24 24\"\n",
              "       width=\"24px\">\n",
              "    <path d=\"M0 0h24v24H0V0z\" fill=\"none\"/>\n",
              "    <path d=\"M18.56 5.44l.94 2.06.94-2.06 2.06-.94-2.06-.94-.94-2.06-.94 2.06-2.06.94zm-11 1L8.5 8.5l.94-2.06 2.06-.94-2.06-.94L8.5 2.5l-.94 2.06-2.06.94zm10 10l.94 2.06.94-2.06 2.06-.94-2.06-.94-.94-2.06-.94 2.06-2.06.94z\"/><path d=\"M17.41 7.96l-1.37-1.37c-.4-.4-.92-.59-1.43-.59-.52 0-1.04.2-1.43.59L10.3 9.45l-7.72 7.72c-.78.78-.78 2.05 0 2.83L4 21.41c.39.39.9.59 1.41.59.51 0 1.02-.2 1.41-.59l7.78-7.78 2.81-2.81c.8-.78.8-2.07 0-2.86zM5.41 20L4 18.59l7.72-7.72 1.47 1.35L5.41 20z\"/>\n",
              "  </svg>\n",
              "      </button>\n",
              "      \n",
              "  <style>\n",
              "    .colab-df-container {\n",
              "      display:flex;\n",
              "      flex-wrap:wrap;\n",
              "      gap: 12px;\n",
              "    }\n",
              "\n",
              "    .colab-df-convert {\n",
              "      background-color: #E8F0FE;\n",
              "      border: none;\n",
              "      border-radius: 50%;\n",
              "      cursor: pointer;\n",
              "      display: none;\n",
              "      fill: #1967D2;\n",
              "      height: 32px;\n",
              "      padding: 0 0 0 0;\n",
              "      width: 32px;\n",
              "    }\n",
              "\n",
              "    .colab-df-convert:hover {\n",
              "      background-color: #E2EBFA;\n",
              "      box-shadow: 0px 1px 2px rgba(60, 64, 67, 0.3), 0px 1px 3px 1px rgba(60, 64, 67, 0.15);\n",
              "      fill: #174EA6;\n",
              "    }\n",
              "\n",
              "    [theme=dark] .colab-df-convert {\n",
              "      background-color: #3B4455;\n",
              "      fill: #D2E3FC;\n",
              "    }\n",
              "\n",
              "    [theme=dark] .colab-df-convert:hover {\n",
              "      background-color: #434B5C;\n",
              "      box-shadow: 0px 1px 3px 1px rgba(0, 0, 0, 0.15);\n",
              "      filter: drop-shadow(0px 1px 2px rgba(0, 0, 0, 0.3));\n",
              "      fill: #FFFFFF;\n",
              "    }\n",
              "  </style>\n",
              "\n",
              "      <script>\n",
              "        const buttonEl =\n",
              "          document.querySelector('#df-803f2d43-a500-4cc6-b510-83e7edb19e7c button.colab-df-convert');\n",
              "        buttonEl.style.display =\n",
              "          google.colab.kernel.accessAllowed ? 'block' : 'none';\n",
              "\n",
              "        async function convertToInteractive(key) {\n",
              "          const element = document.querySelector('#df-803f2d43-a500-4cc6-b510-83e7edb19e7c');\n",
              "          const dataTable =\n",
              "            await google.colab.kernel.invokeFunction('convertToInteractive',\n",
              "                                                     [key], {});\n",
              "          if (!dataTable) return;\n",
              "\n",
              "          const docLinkHtml = 'Like what you see? Visit the ' +\n",
              "            '<a target=\"_blank\" href=https://colab.research.google.com/notebooks/data_table.ipynb>data table notebook</a>'\n",
              "            + ' to learn more about interactive tables.';\n",
              "          element.innerHTML = '';\n",
              "          dataTable['output_type'] = 'display_data';\n",
              "          await google.colab.output.renderOutput(dataTable, element);\n",
              "          const docLink = document.createElement('div');\n",
              "          docLink.innerHTML = docLinkHtml;\n",
              "          element.appendChild(docLink);\n",
              "        }\n",
              "      </script>\n",
              "    </div>\n",
              "  </div>\n",
              "  "
            ],
            "text/plain": [
              "                           index  Consumer disputed?\n",
              "10  Company response to consumer           -0.058281\n",
              "1                    Sub-product           -0.032738\n",
              "3                      Sub-issue           -0.032738\n",
              "7                           Tags           -0.032738\n",
              "8     Consumer consent provided?           -0.024403\n",
              "6                          State           -0.007877\n",
              "5                        Company            0.000213\n",
              "2                          Issue            0.000467\n",
              "13               Day_of_Week sin            0.000669\n",
              "11              Timely response?            0.003859\n",
              "4        Company public response            0.004469\n",
              "14               Day_of_Week cos            0.020944\n",
              "0                        Product            0.021577\n",
              "9                  Submitted via            0.058920\n",
              "12            Consumer disputed?            1.000000"
            ]
          },
          "execution_count": 75,
          "metadata": {},
          "output_type": "execute_result"
        }
      ],
      "source": [
        "df=new_train_df[new_train_df.columns[0:]].corr()['Consumer disputed?'][:].reset_index()\n",
        "df.sort_values(by='Consumer disputed?')"
      ]
    },
    {
      "cell_type": "markdown",
      "metadata": {
        "id": "a0WTF15kAYfY"
      },
      "source": [
        "From the above correlation, it seems company and Timely response, Issue has least relation with Consumer disputed? column. so lets drop"
      ]
    },
    {
      "cell_type": "code",
      "execution_count": null,
      "metadata": {
        "id": "l8NoOMEgAoo7"
      },
      "outputs": [],
      "source": [
        "new_train_df.drop(['Issue','Company','Timely response?'],axis=1,inplace=True)"
      ]
    },
    {
      "cell_type": "code",
      "execution_count": null,
      "metadata": {
        "id": "eQcbP6P9xOuu"
      },
      "outputs": [],
      "source": [
        "y=new_train_df['Consumer disputed?']\n",
        "X=new_train_df.drop(['Consumer disputed?'],axis=1)"
      ]
    },
    {
      "cell_type": "code",
      "execution_count": null,
      "metadata": {
        "id": "ESTV0s-L3mlw"
      },
      "outputs": [],
      "source": [
        "X_train,X_test,y_train,y_test=splitdata(X,y)"
      ]
    },
    {
      "cell_type": "code",
      "execution_count": null,
      "metadata": {
        "id": "W2LQx6TB0idq"
      },
      "outputs": [],
      "source": [
        "X_train=Scaling(X_train)"
      ]
    },
    {
      "cell_type": "code",
      "execution_count": null,
      "metadata": {
        "colab": {
          "base_uri": "https://localhost:8080/",
          "height": 247
        },
        "id": "d4f_MwwY4V11",
        "outputId": "f476c0e0-04d3-4fea-bc4e-b6e8a680d6a1"
      },
      "outputs": [
        {
          "name": "stdout",
          "output_type": "stream",
          "text": [
            "[0.79066365 0.78735412 0.78606515 0.78613109 0.78832587]\n",
            "[0.75458979 0.75255182 0.74957325 0.75084046 0.75230365]\n",
            "[0.79066365 0.78735412 0.78606515 0.78613109 0.78832587]\n",
            "[0.7761714  0.77380247 0.77167741 0.7724747  0.77332822]\n"
          ]
        },
        {
          "data": {
            "text/html": [
              "\n",
              "  <div id=\"df-9281f07a-b2de-4e65-8017-4bfd33612145\">\n",
              "    <div class=\"colab-df-container\">\n",
              "      <div>\n",
              "<style scoped>\n",
              "    .dataframe tbody tr th:only-of-type {\n",
              "        vertical-align: middle;\n",
              "    }\n",
              "\n",
              "    .dataframe tbody tr th {\n",
              "        vertical-align: top;\n",
              "    }\n",
              "\n",
              "    .dataframe thead th {\n",
              "        text-align: right;\n",
              "    }\n",
              "</style>\n",
              "<table border=\"1\" class=\"dataframe\">\n",
              "  <thead>\n",
              "    <tr style=\"text-align: right;\">\n",
              "      <th></th>\n",
              "      <th>Model</th>\n",
              "      <th>Time Taken</th>\n",
              "      <th>Accuracy</th>\n",
              "    </tr>\n",
              "  </thead>\n",
              "  <tbody>\n",
              "    <tr>\n",
              "      <th>0</th>\n",
              "      <td>Logistic Regression</td>\n",
              "      <td>2.544005</td>\n",
              "      <td>0.787708</td>\n",
              "    </tr>\n",
              "    <tr>\n",
              "      <th>1</th>\n",
              "      <td>Decision Tree</td>\n",
              "      <td>5.286153</td>\n",
              "      <td>0.751972</td>\n",
              "    </tr>\n",
              "    <tr>\n",
              "      <th>2</th>\n",
              "      <td>Linear SVC</td>\n",
              "      <td>57.793038</td>\n",
              "      <td>0.787708</td>\n",
              "    </tr>\n",
              "    <tr>\n",
              "      <th>3</th>\n",
              "      <td>Random Forest</td>\n",
              "      <td>139.958729</td>\n",
              "      <td>0.773491</td>\n",
              "    </tr>\n",
              "  </tbody>\n",
              "</table>\n",
              "</div>\n",
              "      <button class=\"colab-df-convert\" onclick=\"convertToInteractive('df-9281f07a-b2de-4e65-8017-4bfd33612145')\"\n",
              "              title=\"Convert this dataframe to an interactive table.\"\n",
              "              style=\"display:none;\">\n",
              "        \n",
              "  <svg xmlns=\"http://www.w3.org/2000/svg\" height=\"24px\"viewBox=\"0 0 24 24\"\n",
              "       width=\"24px\">\n",
              "    <path d=\"M0 0h24v24H0V0z\" fill=\"none\"/>\n",
              "    <path d=\"M18.56 5.44l.94 2.06.94-2.06 2.06-.94-2.06-.94-.94-2.06-.94 2.06-2.06.94zm-11 1L8.5 8.5l.94-2.06 2.06-.94-2.06-.94L8.5 2.5l-.94 2.06-2.06.94zm10 10l.94 2.06.94-2.06 2.06-.94-2.06-.94-.94-2.06-.94 2.06-2.06.94z\"/><path d=\"M17.41 7.96l-1.37-1.37c-.4-.4-.92-.59-1.43-.59-.52 0-1.04.2-1.43.59L10.3 9.45l-7.72 7.72c-.78.78-.78 2.05 0 2.83L4 21.41c.39.39.9.59 1.41.59.51 0 1.02-.2 1.41-.59l7.78-7.78 2.81-2.81c.8-.78.8-2.07 0-2.86zM5.41 20L4 18.59l7.72-7.72 1.47 1.35L5.41 20z\"/>\n",
              "  </svg>\n",
              "      </button>\n",
              "      \n",
              "  <style>\n",
              "    .colab-df-container {\n",
              "      display:flex;\n",
              "      flex-wrap:wrap;\n",
              "      gap: 12px;\n",
              "    }\n",
              "\n",
              "    .colab-df-convert {\n",
              "      background-color: #E8F0FE;\n",
              "      border: none;\n",
              "      border-radius: 50%;\n",
              "      cursor: pointer;\n",
              "      display: none;\n",
              "      fill: #1967D2;\n",
              "      height: 32px;\n",
              "      padding: 0 0 0 0;\n",
              "      width: 32px;\n",
              "    }\n",
              "\n",
              "    .colab-df-convert:hover {\n",
              "      background-color: #E2EBFA;\n",
              "      box-shadow: 0px 1px 2px rgba(60, 64, 67, 0.3), 0px 1px 3px 1px rgba(60, 64, 67, 0.15);\n",
              "      fill: #174EA6;\n",
              "    }\n",
              "\n",
              "    [theme=dark] .colab-df-convert {\n",
              "      background-color: #3B4455;\n",
              "      fill: #D2E3FC;\n",
              "    }\n",
              "\n",
              "    [theme=dark] .colab-df-convert:hover {\n",
              "      background-color: #434B5C;\n",
              "      box-shadow: 0px 1px 3px 1px rgba(0, 0, 0, 0.15);\n",
              "      filter: drop-shadow(0px 1px 2px rgba(0, 0, 0, 0.3));\n",
              "      fill: #FFFFFF;\n",
              "    }\n",
              "  </style>\n",
              "\n",
              "      <script>\n",
              "        const buttonEl =\n",
              "          document.querySelector('#df-9281f07a-b2de-4e65-8017-4bfd33612145 button.colab-df-convert');\n",
              "        buttonEl.style.display =\n",
              "          google.colab.kernel.accessAllowed ? 'block' : 'none';\n",
              "\n",
              "        async function convertToInteractive(key) {\n",
              "          const element = document.querySelector('#df-9281f07a-b2de-4e65-8017-4bfd33612145');\n",
              "          const dataTable =\n",
              "            await google.colab.kernel.invokeFunction('convertToInteractive',\n",
              "                                                     [key], {});\n",
              "          if (!dataTable) return;\n",
              "\n",
              "          const docLinkHtml = 'Like what you see? Visit the ' +\n",
              "            '<a target=\"_blank\" href=https://colab.research.google.com/notebooks/data_table.ipynb>data table notebook</a>'\n",
              "            + ' to learn more about interactive tables.';\n",
              "          element.innerHTML = '';\n",
              "          dataTable['output_type'] = 'display_data';\n",
              "          await google.colab.output.renderOutput(dataTable, element);\n",
              "          const docLink = document.createElement('div');\n",
              "          docLink.innerHTML = docLinkHtml;\n",
              "          element.appendChild(docLink);\n",
              "        }\n",
              "      </script>\n",
              "    </div>\n",
              "  </div>\n",
              "  "
            ],
            "text/plain": [
              "                 Model  Time Taken  Accuracy\n",
              "0  Logistic Regression    2.544005  0.787708\n",
              "1        Decision Tree    5.286153  0.751972\n",
              "2           Linear SVC   57.793038  0.787708\n",
              "3        Random Forest  139.958729  0.773491"
            ]
          },
          "execution_count": 80,
          "metadata": {},
          "output_type": "execute_result"
        }
      ],
      "source": [
        "l=[]\n",
        "models=[]\n",
        "models.append(('Logistic Regression',LogisticRegression()))\n",
        "models.append(('Decision Tree',DecisionTreeClassifier(random_state=45)))\n",
        "models.append(('Linear SVC',LinearSVC(verbose=False, max_iter=10000, tol=1e-4, C=0.1)))\n",
        "models.append(('Random Forest',RandomForestClassifier(n_estimators=100,max_depth=100,min_samples_split=10,random_state=13)))\n",
        "for name,model in models:\n",
        "  st_time = time.time()\n",
        "  kfold=KFold(n_splits=5)\n",
        "  cross_val_sc=cross_val_score(model,X_train,y_train,scoring='accuracy',cv=kfold,error_score=\"raise\")\n",
        "  print(cross_val_sc)\n",
        "  en_time = time.time()\n",
        "  l.append({'Model':name,'Time Taken':en_time-st_time,'Accuracy':cross_val_sc.mean()})\n",
        "df=pd.DataFrame(l,columns=['Model','Time Taken','Accuracy'])\n",
        "df"
      ]
    },
    {
      "cell_type": "markdown",
      "metadata": {
        "id": "zjLaZonvFfuD"
      },
      "source": [
        "Baseline is 78% Accuracy. In order to improve lets do **Target Encoding** for categorical variables instead of label encoding"
      ]
    },
    {
      "cell_type": "markdown",
      "metadata": {
        "id": "rHXc1gn95ztK"
      },
      "source": [
        "**METHOD:2 Target Encoding with Additive Smoothing**"
      ]
    },
    {
      "cell_type": "code",
      "execution_count": null,
      "metadata": {
        "id": "Sk6FKrUH2fpm"
      },
      "outputs": [],
      "source": [
        "#te_train_df.drop(['Issue','Timely response?','Company'],axis=1,inplace=True)"
      ]
    },
    {
      "cell_type": "code",
      "execution_count": null,
      "metadata": {
        "id": "OvppIgGwOoTb"
      },
      "outputs": [],
      "source": [
        "mapTargetVariable(te_train_df,'Consumer disputed?')"
      ]
    },
    {
      "cell_type": "code",
      "execution_count": null,
      "metadata": {
        "id": "QZ2tK-9fFZcd"
      },
      "outputs": [],
      "source": [
        "def TargetEncoding(df):\n",
        "  df['Product']=calc_smooth_mean(df,by='Product',on='Consumer disputed?',m=5000)\n",
        "  df['Sub-product']=calc_smooth_mean(df,by='Sub-product',on='Consumer disputed?',m=5000)\n",
        "  df['Sub-issue']=calc_smooth_mean(df,by='Sub-issue',on='Consumer disputed?',m=5000)\n",
        "  df['Issue']=calc_smooth_mean(df,by='Issue',on='Consumer disputed?',m=5000)\n",
        "  df['Company public response']=calc_smooth_mean(df,by='Company public response',on='Consumer disputed?',m=5000)\n",
        "  df['Company']=calc_smooth_mean(df,by='Company',on='Consumer disputed?',m=5000)\n",
        "  df['State']=calc_smooth_mean(df,by='State',on='Consumer disputed?',m=5000)\n",
        "  df['Consumer consent provided?']=calc_smooth_mean(df,by='Consumer consent provided?',on='Consumer disputed?',m=5000)\n",
        "  df['Timely response?']=calc_smooth_mean(df,by='Timely response?',on='Consumer disputed?',m=5000)\n",
        "  df['Submitted via']=calc_smooth_mean(df,by='Submitted via',on='Consumer disputed?',m=5000)\n",
        "  df['Company response to consumer']=calc_smooth_mean(df,by='Company response to consumer',on='Consumer disputed?',m=5000)\n",
        "  df['Tags']=calc_smooth_mean(df,by='Tags',on='Consumer disputed?',m=5000)"
      ]
    },
    {
      "cell_type": "code",
      "execution_count": null,
      "metadata": {
        "id": "hnOIhChPyD2T"
      },
      "outputs": [],
      "source": [
        "TargetEncoding(te_train_df)"
      ]
    },
    {
      "cell_type": "code",
      "execution_count": null,
      "metadata": {
        "colab": {
          "base_uri": "https://localhost:8080/"
        },
        "id": "f51Qfwe8HGTj",
        "outputId": "f3ef8fa4-c3f9-4fdb-ee18-6307af7e8300"
      },
      "outputs": [
        {
          "data": {
            "text/plain": [
              "Product                         float64\n",
              "Sub-product                     float64\n",
              "Issue                           float64\n",
              "Sub-issue                       float64\n",
              "Company public response         float64\n",
              "Company                         float64\n",
              "State                           float64\n",
              "Tags                            float64\n",
              "Consumer consent provided?      float64\n",
              "Submitted via                   float64\n",
              "Company response to consumer    float64\n",
              "Timely response?                float64\n",
              "Consumer disputed?                int64\n",
              "Day_of_Week sin                 float64\n",
              "Day_of_Week cos                 float64\n",
              "dtype: object"
            ]
          },
          "execution_count": 98,
          "metadata": {},
          "output_type": "execute_result"
        }
      ],
      "source": [
        "te_train_df.dtypes"
      ]
    },
    {
      "cell_type": "code",
      "execution_count": null,
      "metadata": {
        "id": "yIzjqKvwx-4P"
      },
      "outputs": [],
      "source": [
        "y=te_train_df['Consumer disputed?']\n",
        "X=te_train_df.drop('Consumer disputed?',axis=1)"
      ]
    },
    {
      "cell_type": "code",
      "execution_count": null,
      "metadata": {
        "id": "nMWPi73WyDCk"
      },
      "outputs": [],
      "source": [
        "X_train,X_test,y_train,y_test=splitdata(X,y)"
      ]
    },
    {
      "cell_type": "code",
      "execution_count": null,
      "metadata": {
        "id": "v3_bETXsELV7"
      },
      "outputs": [],
      "source": [
        "X_train=Scaling(X_train)"
      ]
    },
    {
      "cell_type": "code",
      "execution_count": null,
      "metadata": {
        "colab": {
          "base_uri": "https://localhost:8080/"
        },
        "id": "5qSma99nxsWr",
        "outputId": "5099cae2-de7e-4029-d337-1788a46622d3"
      },
      "outputs": [
        {
          "name": "stdout",
          "output_type": "stream",
          "text": [
            "[0.79066365 0.78735412 0.78606515 0.78613109 0.78832587]\n",
            "[0.6922139  0.69170876 0.69224874 0.6934627  0.69246982]\n",
            "[0.79066365 0.78735412 0.78606515 0.78613109 0.78832587]\n",
            "[0.78474133 0.78195436 0.77998607 0.78038287 0.78362278]\n"
          ]
        },
        {
          "data": {
            "text/html": [
              "\n",
              "  <div id=\"df-b2cb7563-7f8f-404b-adfe-3c24480e1ef9\">\n",
              "    <div class=\"colab-df-container\">\n",
              "      <div>\n",
              "<style scoped>\n",
              "    .dataframe tbody tr th:only-of-type {\n",
              "        vertical-align: middle;\n",
              "    }\n",
              "\n",
              "    .dataframe tbody tr th {\n",
              "        vertical-align: top;\n",
              "    }\n",
              "\n",
              "    .dataframe thead th {\n",
              "        text-align: right;\n",
              "    }\n",
              "</style>\n",
              "<table border=\"1\" class=\"dataframe\">\n",
              "  <thead>\n",
              "    <tr style=\"text-align: right;\">\n",
              "      <th></th>\n",
              "      <th>Model</th>\n",
              "      <th>Time Taken</th>\n",
              "      <th>Accuracy</th>\n",
              "    </tr>\n",
              "  </thead>\n",
              "  <tbody>\n",
              "    <tr>\n",
              "      <th>0</th>\n",
              "      <td>Logistic Regression</td>\n",
              "      <td>4.263444</td>\n",
              "      <td>0.787708</td>\n",
              "    </tr>\n",
              "    <tr>\n",
              "      <th>1</th>\n",
              "      <td>Decision Tree</td>\n",
              "      <td>7.712393</td>\n",
              "      <td>0.692421</td>\n",
              "    </tr>\n",
              "    <tr>\n",
              "      <th>2</th>\n",
              "      <td>Linear SVC</td>\n",
              "      <td>99.006443</td>\n",
              "      <td>0.787708</td>\n",
              "    </tr>\n",
              "    <tr>\n",
              "      <th>3</th>\n",
              "      <td>Random Forest</td>\n",
              "      <td>157.244058</td>\n",
              "      <td>0.782137</td>\n",
              "    </tr>\n",
              "  </tbody>\n",
              "</table>\n",
              "</div>\n",
              "      <button class=\"colab-df-convert\" onclick=\"convertToInteractive('df-b2cb7563-7f8f-404b-adfe-3c24480e1ef9')\"\n",
              "              title=\"Convert this dataframe to an interactive table.\"\n",
              "              style=\"display:none;\">\n",
              "        \n",
              "  <svg xmlns=\"http://www.w3.org/2000/svg\" height=\"24px\"viewBox=\"0 0 24 24\"\n",
              "       width=\"24px\">\n",
              "    <path d=\"M0 0h24v24H0V0z\" fill=\"none\"/>\n",
              "    <path d=\"M18.56 5.44l.94 2.06.94-2.06 2.06-.94-2.06-.94-.94-2.06-.94 2.06-2.06.94zm-11 1L8.5 8.5l.94-2.06 2.06-.94-2.06-.94L8.5 2.5l-.94 2.06-2.06.94zm10 10l.94 2.06.94-2.06 2.06-.94-2.06-.94-.94-2.06-.94 2.06-2.06.94z\"/><path d=\"M17.41 7.96l-1.37-1.37c-.4-.4-.92-.59-1.43-.59-.52 0-1.04.2-1.43.59L10.3 9.45l-7.72 7.72c-.78.78-.78 2.05 0 2.83L4 21.41c.39.39.9.59 1.41.59.51 0 1.02-.2 1.41-.59l7.78-7.78 2.81-2.81c.8-.78.8-2.07 0-2.86zM5.41 20L4 18.59l7.72-7.72 1.47 1.35L5.41 20z\"/>\n",
              "  </svg>\n",
              "      </button>\n",
              "      \n",
              "  <style>\n",
              "    .colab-df-container {\n",
              "      display:flex;\n",
              "      flex-wrap:wrap;\n",
              "      gap: 12px;\n",
              "    }\n",
              "\n",
              "    .colab-df-convert {\n",
              "      background-color: #E8F0FE;\n",
              "      border: none;\n",
              "      border-radius: 50%;\n",
              "      cursor: pointer;\n",
              "      display: none;\n",
              "      fill: #1967D2;\n",
              "      height: 32px;\n",
              "      padding: 0 0 0 0;\n",
              "      width: 32px;\n",
              "    }\n",
              "\n",
              "    .colab-df-convert:hover {\n",
              "      background-color: #E2EBFA;\n",
              "      box-shadow: 0px 1px 2px rgba(60, 64, 67, 0.3), 0px 1px 3px 1px rgba(60, 64, 67, 0.15);\n",
              "      fill: #174EA6;\n",
              "    }\n",
              "\n",
              "    [theme=dark] .colab-df-convert {\n",
              "      background-color: #3B4455;\n",
              "      fill: #D2E3FC;\n",
              "    }\n",
              "\n",
              "    [theme=dark] .colab-df-convert:hover {\n",
              "      background-color: #434B5C;\n",
              "      box-shadow: 0px 1px 3px 1px rgba(0, 0, 0, 0.15);\n",
              "      filter: drop-shadow(0px 1px 2px rgba(0, 0, 0, 0.3));\n",
              "      fill: #FFFFFF;\n",
              "    }\n",
              "  </style>\n",
              "\n",
              "      <script>\n",
              "        const buttonEl =\n",
              "          document.querySelector('#df-b2cb7563-7f8f-404b-adfe-3c24480e1ef9 button.colab-df-convert');\n",
              "        buttonEl.style.display =\n",
              "          google.colab.kernel.accessAllowed ? 'block' : 'none';\n",
              "\n",
              "        async function convertToInteractive(key) {\n",
              "          const element = document.querySelector('#df-b2cb7563-7f8f-404b-adfe-3c24480e1ef9');\n",
              "          const dataTable =\n",
              "            await google.colab.kernel.invokeFunction('convertToInteractive',\n",
              "                                                     [key], {});\n",
              "          if (!dataTable) return;\n",
              "\n",
              "          const docLinkHtml = 'Like what you see? Visit the ' +\n",
              "            '<a target=\"_blank\" href=https://colab.research.google.com/notebooks/data_table.ipynb>data table notebook</a>'\n",
              "            + ' to learn more about interactive tables.';\n",
              "          element.innerHTML = '';\n",
              "          dataTable['output_type'] = 'display_data';\n",
              "          await google.colab.output.renderOutput(dataTable, element);\n",
              "          const docLink = document.createElement('div');\n",
              "          docLink.innerHTML = docLinkHtml;\n",
              "          element.appendChild(docLink);\n",
              "        }\n",
              "      </script>\n",
              "    </div>\n",
              "  </div>\n",
              "  "
            ],
            "text/plain": [
              "                 Model  Time Taken  Accuracy\n",
              "0  Logistic Regression    4.263444  0.787708\n",
              "1        Decision Tree    7.712393  0.692421\n",
              "2           Linear SVC   99.006443  0.787708\n",
              "3        Random Forest  157.244058  0.782137"
            ]
          },
          "execution_count": 103,
          "metadata": {},
          "output_type": "execute_result"
        }
      ],
      "source": [
        "l=[]\n",
        "models=[]\n",
        "models.append(('Logistic Regression',LogisticRegression()))\n",
        "models.append(('Decision Tree',DecisionTreeClassifier(random_state=45)))\n",
        "models.append(('Linear SVC',LinearSVC(verbose=False, max_iter=10000, tol=1e-4, C=0.1)))\n",
        "models.append(('Random Forest',RandomForestClassifier(n_estimators=100,max_depth=100,min_samples_split=10,random_state=13)))\n",
        "for name,model in models:\n",
        "  st_time = time.time()\n",
        "  kfold=KFold(n_splits=5)\n",
        "  cross_val_sc=cross_val_score(model,X_train,y_train,scoring='accuracy',cv=kfold,error_score=\"raise\")\n",
        "  print(cross_val_sc)\n",
        "  en_time = time.time()\n",
        "  l.append({'Model':name,'Time Taken':en_time-st_time,'Accuracy':cross_val_sc.mean()})\n",
        "df=pd.DataFrame(l,columns=['Model','Time Taken','Accuracy'])\n",
        "df"
      ]
    },
    {
      "cell_type": "markdown",
      "metadata": {
        "id": "QDj0wcyhQKYP"
      },
      "source": [
        "Even after Target Encoding, accuracy is not improved.\n",
        "\n",
        "To improve, we will reduce the noise in data. i.e., binning the low occurances of category"
      ]
    },
    {
      "cell_type": "markdown",
      "metadata": {
        "id": "-1rh3FY4Hx8K"
      },
      "source": [
        "**Method:3 Feature Cross with Target Encoding**"
      ]
    },
    {
      "cell_type": "code",
      "execution_count": 19,
      "metadata": {
        "id": "J3EfwacrFQWk"
      },
      "outputs": [],
      "source": [
        "binning_train_df=train_df.copy()"
      ]
    },
    {
      "cell_type": "code",
      "execution_count": 20,
      "metadata": {
        "id": "IDFGNblZQT4S"
      },
      "outputs": [],
      "source": [
        "dropcols(binning_train_df,['Complaint ID','ZIP code','Consumer complaint narrative','Company public response'])\n",
        "impute(binning_train_df)\n",
        "featurecross(binning_train_df)\n",
        "dropcols(binning_train_df,['Product','Issue','Sub-product','Sub-issue','Company response to consumer','Timely response?'])\n",
        "binning(binning_train_df,'Combined Issue')\n",
        "binning(binning_train_df,'Combined Products')\n",
        "Month_Year_WeekDay(binning_train_df)\n",
        "encode(binning_train_df,'Day_of_Week',7)\n",
        "dropcols(binning_train_df,['Day_of_Week'])\n",
        "mapTargetVariable(binning_train_df,'Consumer disputed?')"
      ]
    },
    {
      "cell_type": "code",
      "execution_count": 21,
      "metadata": {
        "id": "WMHoDoxJ6i6F"
      },
      "outputs": [],
      "source": [
        "smoothed_products=calc_smooth_mean(binning_train_df,by='Combined Products',on='Consumer disputed?',m=300)\n",
        "smoothed_Issue=calc_smooth_mean(binning_train_df,by='Combined Issue',on='Consumer disputed?',m=300)\n",
        "smoothed_Company=calc_smooth_mean(binning_train_df,by='Company',on='Consumer disputed?',m=300)\n",
        "smoothed_State=calc_smooth_mean(binning_train_df,by='State',on='Consumer disputed?',m=300)\n",
        "smoothed_Response=calc_smooth_mean(binning_train_df,by='Company_Response',on='Consumer disputed?',m=300)\n",
        "smoothed_Consent=calc_smooth_mean(binning_train_df,by='Consumer consent provided?',on='Consumer disputed?',m=300)\n",
        "smoothed_submitted=calc_smooth_mean(binning_train_df,by='Submitted via',on='Consumer disputed?',m=300)\n",
        "smoothed_tags=calc_smooth_mean(binning_train_df,by='Tags',on='Consumer disputed?',m=300)"
      ]
    },
    {
      "cell_type": "code",
      "execution_count": 22,
      "metadata": {
        "id": "YSZgAWBOu8aE"
      },
      "outputs": [],
      "source": [
        "Target_Encoding_after_FeatureCross(binning_train_df)"
      ]
    },
    {
      "cell_type": "code",
      "execution_count": 23,
      "metadata": {
        "id": "1C8Dk8VmdU0R"
      },
      "outputs": [],
      "source": [
        "test_copy_df=test_df.copy()\n",
        "dropcols(test_copy_df,['Complaint ID','ZIP code','Consumer complaint narrative','Company public response'])\n",
        "impute(test_copy_df)\n",
        "featurecross(test_copy_df)\n",
        "dropcols(test_copy_df,['Product','Issue','Sub-product','Sub-issue','Company response to consumer','Timely response?'])\n",
        "binning(test_copy_df,'Combined Issue')\n",
        "binning(test_copy_df,'Combined Products')\n",
        "Month_Year_WeekDay(test_copy_df)\n",
        "encode(test_copy_df,'Day_of_Week',7)\n",
        "dropcols(test_copy_df,['Day_of_Week'])\n",
        "Target_Encoding_after_FeatureCross(test_copy_df)"
      ]
    },
    {
      "cell_type": "markdown",
      "metadata": {
        "id": "ZkWy-OB8mP7V"
      },
      "source": [
        "**Removing the Outliers**"
      ]
    },
    {
      "cell_type": "code",
      "execution_count": 24,
      "metadata": {
        "id": "UxKuW4qCha_F"
      },
      "outputs": [],
      "source": [
        "Outliers=binning_train_df[binning_train_df['Company']>0.36]\n",
        "binning_train_df.drop(Outliers.index,axis=0,inplace=True)"
      ]
    },
    {
      "cell_type": "markdown",
      "metadata": {
        "id": "FbupH5OamYJf"
      },
      "source": [
        "**Splitting train and test**"
      ]
    },
    {
      "cell_type": "code",
      "execution_count": 25,
      "metadata": {
        "id": "_VWan5NBJd22"
      },
      "outputs": [],
      "source": [
        "y=binning_train_df['Consumer disputed?']\n",
        "X=binning_train_df.drop('Consumer disputed?',axis=1)"
      ]
    },
    {
      "cell_type": "code",
      "execution_count": 26,
      "metadata": {
        "colab": {
          "base_uri": "https://localhost:8080/"
        },
        "id": "OObL1satXCyP",
        "outputId": "97374eb3-0fd9-4cfa-d91b-b3e29d3f6e6e"
      },
      "outputs": [
        {
          "output_type": "stream",
          "name": "stdout",
          "text": [
            "Counter({0: 282616, 1: 76083})\n"
          ]
        }
      ],
      "source": [
        "from collections import Counter\n",
        "from numpy import where\n",
        "counter = Counter(y)\n",
        "print(counter)"
      ]
    },
    {
      "cell_type": "code",
      "execution_count": null,
      "metadata": {
        "colab": {
          "base_uri": "https://localhost:8080/",
          "height": 607
        },
        "id": "xAv4yj8KXMsG",
        "outputId": "7dc35e25-386c-4702-fca3-177742c76372"
      },
      "outputs": [
        {
          "output_type": "display_data",
          "data": {
            "image/png": "[encoded data removed]",
            "text/plain": [
              "<Figure size 720x720 with 1 Axes>"
            ]
          },
          "metadata": {
            "needs_background": "light"
          }
        }
      ],
      "source": [
        "# scatter plot of examples by class label\n",
        "plt.figure(figsize=(10,10))\n",
        "for label, _ in counter.items():\n",
        "\trow_ix = where(y == label)[0]\n",
        "\tplt.scatter(X.iloc[row_ix, 0], X.iloc[row_ix, 1], label=str(label))\n",
        "plt.legend()\n",
        "plt.title(\"Distribution of Disputed vs Not disputed Class\")\n",
        "plt.show()"
      ]
    },
    {
      "cell_type": "code",
      "execution_count": 27,
      "metadata": {
        "id": "6yqkVWmTQawd"
      },
      "outputs": [],
      "source": [
        "X_train,X_test,y_train,y_test=splitdata(X,y)"
      ]
    },
    {
      "cell_type": "code",
      "execution_count": 28,
      "metadata": {
        "id": "PMX_CRkLu41i"
      },
      "outputs": [],
      "source": [
        "# Normalize using MinMaxScaler to constrain values to between 0 and 1.\n",
        "\n",
        "scaler = MinMaxScaler(feature_range = (0,1))\n",
        "\n",
        "scaler.fit(X_train)\n",
        "X_train = scaler.transform(X_train)\n",
        "X_test = scaler.transform(X_test)\n",
        "test_copy_df=scaler.transform(test_copy_df)"
      ]
    },
    {
      "cell_type": "markdown",
      "source": [
        "**METHOD:1 Baseline for RECALL SCORE** (goal is to improve prediction of disputed records)"
      ],
      "metadata": {
        "id": "hA5RlUu9vWRU"
      }
    },
    {
      "cell_type": "code",
      "execution_count": 29,
      "metadata": {
        "colab": {
          "base_uri": "https://localhost:8080/",
          "height": 98
        },
        "id": "smtsaesPVln8",
        "outputId": "5117efaf-9bef-4410-b179-2412517d7584"
      },
      "outputs": [
        {
          "output_type": "stream",
          "name": "stdout",
          "text": [
            "[0.24612694 0.23538652 0.24259543 0.25063333 0.23943314]\n"
          ]
        },
        {
          "output_type": "execute_result",
          "data": {
            "text/html": [
              "\n",
              "  <div id=\"df-93f0b006-5862-4f3c-8f8c-d16a1cc0e0fb\">\n",
              "    <div class=\"colab-df-container\">\n",
              "      <div>\n",
              "<style scoped>\n",
              "    .dataframe tbody tr th:only-of-type {\n",
              "        vertical-align: middle;\n",
              "    }\n",
              "\n",
              "    .dataframe tbody tr th {\n",
              "        vertical-align: top;\n",
              "    }\n",
              "\n",
              "    .dataframe thead th {\n",
              "        text-align: right;\n",
              "    }\n",
              "</style>\n",
              "<table border=\"1\" class=\"dataframe\">\n",
              "  <thead>\n",
              "    <tr style=\"text-align: right;\">\n",
              "      <th></th>\n",
              "      <th>Model</th>\n",
              "      <th>Time Taken</th>\n",
              "      <th>Recall-Score</th>\n",
              "    </tr>\n",
              "  </thead>\n",
              "  <tbody>\n",
              "    <tr>\n",
              "      <th>0</th>\n",
              "      <td>Decision Tree</td>\n",
              "      <td>6.896429</td>\n",
              "      <td>0.242835</td>\n",
              "    </tr>\n",
              "  </tbody>\n",
              "</table>\n",
              "</div>\n",
              "      <button class=\"colab-df-convert\" onclick=\"convertToInteractive('df-93f0b006-5862-4f3c-8f8c-d16a1cc0e0fb')\"\n",
              "              title=\"Convert this dataframe to an interactive table.\"\n",
              "              style=\"display:none;\">\n",
              "        \n",
              "  <svg xmlns=\"http://www.w3.org/2000/svg\" height=\"24px\"viewBox=\"0 0 24 24\"\n",
              "       width=\"24px\">\n",
              "    <path d=\"M0 0h24v24H0V0z\" fill=\"none\"/>\n",
              "    <path d=\"M18.56 5.44l.94 2.06.94-2.06 2.06-.94-2.06-.94-.94-2.06-.94 2.06-2.06.94zm-11 1L8.5 8.5l.94-2.06 2.06-.94-2.06-.94L8.5 2.5l-.94 2.06-2.06.94zm10 10l.94 2.06.94-2.06 2.06-.94-2.06-.94-.94-2.06-.94 2.06-2.06.94z\"/><path d=\"M17.41 7.96l-1.37-1.37c-.4-.4-.92-.59-1.43-.59-.52 0-1.04.2-1.43.59L10.3 9.45l-7.72 7.72c-.78.78-.78 2.05 0 2.83L4 21.41c.39.39.9.59 1.41.59.51 0 1.02-.2 1.41-.59l7.78-7.78 2.81-2.81c.8-.78.8-2.07 0-2.86zM5.41 20L4 18.59l7.72-7.72 1.47 1.35L5.41 20z\"/>\n",
              "  </svg>\n",
              "      </button>\n",
              "      \n",
              "  <style>\n",
              "    .colab-df-container {\n",
              "      display:flex;\n",
              "      flex-wrap:wrap;\n",
              "      gap: 12px;\n",
              "    }\n",
              "\n",
              "    .colab-df-convert {\n",
              "      background-color: #E8F0FE;\n",
              "      border: none;\n",
              "      border-radius: 50%;\n",
              "      cursor: pointer;\n",
              "      display: none;\n",
              "      fill: #1967D2;\n",
              "      height: 32px;\n",
              "      padding: 0 0 0 0;\n",
              "      width: 32px;\n",
              "    }\n",
              "\n",
              "    .colab-df-convert:hover {\n",
              "      background-color: #E2EBFA;\n",
              "      box-shadow: 0px 1px 2px rgba(60, 64, 67, 0.3), 0px 1px 3px 1px rgba(60, 64, 67, 0.15);\n",
              "      fill: #174EA6;\n",
              "    }\n",
              "\n",
              "    [theme=dark] .colab-df-convert {\n",
              "      background-color: #3B4455;\n",
              "      fill: #D2E3FC;\n",
              "    }\n",
              "\n",
              "    [theme=dark] .colab-df-convert:hover {\n",
              "      background-color: #434B5C;\n",
              "      box-shadow: 0px 1px 3px 1px rgba(0, 0, 0, 0.15);\n",
              "      filter: drop-shadow(0px 1px 2px rgba(0, 0, 0, 0.3));\n",
              "      fill: #FFFFFF;\n",
              "    }\n",
              "  </style>\n",
              "\n",
              "      <script>\n",
              "        const buttonEl =\n",
              "          document.querySelector('#df-93f0b006-5862-4f3c-8f8c-d16a1cc0e0fb button.colab-df-convert');\n",
              "        buttonEl.style.display =\n",
              "          google.colab.kernel.accessAllowed ? 'block' : 'none';\n",
              "\n",
              "        async function convertToInteractive(key) {\n",
              "          const element = document.querySelector('#df-93f0b006-5862-4f3c-8f8c-d16a1cc0e0fb');\n",
              "          const dataTable =\n",
              "            await google.colab.kernel.invokeFunction('convertToInteractive',\n",
              "                                                     [key], {});\n",
              "          if (!dataTable) return;\n",
              "\n",
              "          const docLinkHtml = 'Like what you see? Visit the ' +\n",
              "            '<a target=\"_blank\" href=https://colab.research.google.com/notebooks/data_table.ipynb>data table notebook</a>'\n",
              "            + ' to learn more about interactive tables.';\n",
              "          element.innerHTML = '';\n",
              "          dataTable['output_type'] = 'display_data';\n",
              "          await google.colab.output.renderOutput(dataTable, element);\n",
              "          const docLink = document.createElement('div');\n",
              "          docLink.innerHTML = docLinkHtml;\n",
              "          element.appendChild(docLink);\n",
              "        }\n",
              "      </script>\n",
              "    </div>\n",
              "  </div>\n",
              "  "
            ],
            "text/plain": [
              "           Model  Time Taken  Recall-Score\n",
              "0  Decision Tree    6.896429      0.242835"
            ]
          },
          "metadata": {},
          "execution_count": 29
        }
      ],
      "source": [
        "l=[]\n",
        "models=[]\n",
        "models.append(('Decision Tree',DecisionTreeClassifier(random_state=100)))\n",
        "#models.append(('Random Forest',RandomForestClassifier(random_state=100)))\n",
        "for name,model in models:\n",
        "  st_time = time.time()\n",
        "  kfold=KFold(n_splits=5)\n",
        "  cross_val_sc=cross_val_score(model,X_train,y_train,scoring='recall',cv=kfold,error_score=\"raise\")\n",
        "  print(cross_val_sc)\n",
        "  en_time = time.time()\n",
        "  l.append({'Model':name,'Time Taken':en_time-st_time,'Recall-Score':cross_val_sc.mean()})\n",
        "df=pd.DataFrame(l,columns=['Model','Time Taken','Recall-Score'])\n",
        "df"
      ]
    },
    {
      "cell_type": "markdown",
      "metadata": {
        "id": "Pcp20-BKocXx"
      },
      "source": [
        "As its imbalanced dataset, we have chosen \"Recall Score\" instead of relying on Accuracy.\n",
        "\n",
        "Recall -Score is worst in Logistic Regression and Naive Bayes algorithm. \n",
        "Decision Tree and Random Forest are considerable. \n",
        "\n",
        "The base recall score is 0.24, lets improve further"
      ]
    },
    {
      "cell_type": "code",
      "execution_count": 31,
      "metadata": {
        "id": "J3YluSwNkbCh"
      },
      "outputs": [],
      "source": [
        "def train_test_model(model, X_train, X_test, y_train, y_test):\n",
        "    \"\"\" Train and test the model using the training and test data sets. Return the predictions, accuracy and metric reports. \"\"\"\n",
        "    print('Start training...', end='')\n",
        "    model.fit(X_train, y_train)\n",
        "    print('done!')\n",
        "    print('Start testing...', end='')\n",
        "    predictions = model.predict(X_test)\n",
        "    accuracy = model.score(X_test, y_test)\n",
        "    metrics_report = classification_report(y_test, predictions)\n",
        "    precision, recall, fscore, train_support = score(y_test, predictions, average='weighted')\n",
        "    print('done!')\n",
        "    return predictions, accuracy, metrics_report, (precision, recall, fscore)"
      ]
    },
    {
      "cell_type": "code",
      "execution_count": 34,
      "metadata": {
        "colab": {
          "base_uri": "https://localhost:8080/",
          "height": 557
        },
        "id": "J8qW5NbsyUP6",
        "outputId": "b62e7eeb-716a-4e13-98ca-b1e608f77f42"
      },
      "outputs": [
        {
          "output_type": "stream",
          "name": "stdout",
          "text": [
            "Start training...done!\n",
            "Start testing...done!\n",
            "              precision    recall  f1-score   support\n",
            "\n",
            "           0       0.80      0.82      0.81     56523\n",
            "           1       0.27      0.24      0.25     15217\n",
            "\n",
            "    accuracy                           0.70     71740\n",
            "   macro avg       0.53      0.53      0.53     71740\n",
            "weighted avg       0.69      0.70      0.69     71740\n",
            "\n"
          ]
        },
        {
          "output_type": "display_data",
          "data": {
            "image/png": "[encoded data removed]",
            "text/plain": [
              "<Figure size 360x360 with 1 Axes>"
            ]
          },
          "metadata": {
            "needs_background": "light"
          }
        }
      ],
      "source": [
        "predictions, accuracy, metrics_report, nb_prf = train_test_model(DecisionTreeClassifier(random_state=100),X_train,X_test,y_train,y_test)\n",
        "print(metrics_report)\n",
        "conf_matrix=confusion_matrix(y_true=y_test, y_pred=predictions)\n",
        "fig, ax = plt.subplots(figsize=(5, 5))\n",
        "ax.matshow(conf_matrix, cmap=plt.cm.Oranges, alpha=0.3)\n",
        "for i in range(conf_matrix.shape[0]):\n",
        "    for j in range(conf_matrix.shape[1]):\n",
        "        ax.text(x=j, y=i,s=conf_matrix[i, j], va='center', ha='center', size='xx-large')\n",
        " \n",
        "plt.xlabel('Predictions', fontsize=18)\n",
        "plt.ylabel('Actuals', fontsize=18)\n",
        "plt.title('Confusion Matrix', fontsize=18)\n",
        "plt.show()"
      ]
    },
    {
      "cell_type": "markdown",
      "source": [
        "False Negative (Wrongly Predicted as **Not disputed**) count is too high.Thats y recall rate was 0.24. Lets try to improve by Hyper parameter tuning"
      ],
      "metadata": {
        "id": "DXtu-8Rfo1zY"
      }
    },
    {
      "cell_type": "markdown",
      "source": [
        "**METHOD:2 Hyper parameter Tuning (Balancing Weights)**\n"
      ],
      "metadata": {
        "id": "_06UvY5ZuF-D"
      }
    },
    {
      "cell_type": "code",
      "execution_count": 44,
      "metadata": {
        "colab": {
          "base_uri": "https://localhost:8080/"
        },
        "id": "Fmm0zwTU8INS",
        "outputId": "5cd3563c-07fa-4185-ecab-d87f80e78649"
      },
      "outputs": [
        {
          "output_type": "execute_result",
          "data": {
            "text/plain": [
              "0.7401998117306989"
            ]
          },
          "metadata": {},
          "execution_count": 44
        }
      ],
      "source": [
        "dt=DecisionTreeClassifier(random_state=100,class_weight='balanced')\n",
        "params={\n",
        "    'criterion':['gini', 'entropy'],\n",
        "    'max_depth': [2,4,6,8,10,12]\n",
        "}\n",
        "grid_no_up = GridSearchCV(dt, param_grid = params, cv = 5, scoring='recall').fit(X_train, y_train)\n",
        "grid_no_up.best_score_"
      ]
    },
    {
      "cell_type": "code",
      "execution_count": null,
      "metadata": {
        "colab": {
          "base_uri": "https://localhost:8080/"
        },
        "id": "uKwjnbgTERnU",
        "outputId": "ddcc54f8-8fa2-47e5-e9e4-07bd98323588"
      },
      "outputs": [
        {
          "data": {
            "text/plain": [
              "{'ccp_alpha': 0.0,\n",
              " 'class_weight': 'balanced',\n",
              " 'criterion': 'entropy',\n",
              " 'max_depth': 4,\n",
              " 'max_features': None,\n",
              " 'max_leaf_nodes': None,\n",
              " 'min_impurity_decrease': 0.0,\n",
              " 'min_samples_leaf': 1,\n",
              " 'min_samples_split': 2,\n",
              " 'min_weight_fraction_leaf': 0.0,\n",
              " 'random_state': 100,\n",
              " 'splitter': 'best'}"
            ]
          },
          "execution_count": 54,
          "metadata": {},
          "output_type": "execute_result"
        }
      ],
      "source": [
        "grid_no_up.best_estimator_.get_params()"
      ]
    },
    {
      "cell_type": "code",
      "execution_count": 46,
      "metadata": {
        "colab": {
          "base_uri": "https://localhost:8080/",
          "height": 521
        },
        "id": "hKAcP9_UEaK3",
        "outputId": "3e259388-e3ff-418d-cc64-3668a85c01dc"
      },
      "outputs": [
        {
          "output_type": "stream",
          "name": "stdout",
          "text": [
            "              precision    recall  f1-score   support\n",
            "\n",
            "           0       0.86      0.44      0.58     56523\n",
            "           1       0.26      0.74      0.39     15217\n",
            "\n",
            "    accuracy                           0.50     71740\n",
            "   macro avg       0.56      0.59      0.48     71740\n",
            "weighted avg       0.73      0.50      0.54     71740\n",
            "\n"
          ]
        },
        {
          "output_type": "display_data",
          "data": {
            "image/png": "[encoded data removed]",
            "text/plain": [
              "<Figure size 360x360 with 1 Axes>"
            ]
          },
          "metadata": {
            "needs_background": "light"
          }
        }
      ],
      "source": [
        "predictions = grid_no_up.predict(X_test)\n",
        "print(classification_report(y_test,predictions))\n",
        "conf_matrix=confusion_matrix(y_true=y_test, y_pred=predictions)\n",
        "fig, ax = plt.subplots(figsize=(5, 5))\n",
        "ax.matshow(conf_matrix, cmap=plt.cm.Oranges, alpha=0.3)\n",
        "for i in range(conf_matrix.shape[0]):\n",
        "    for j in range(conf_matrix.shape[1]):\n",
        "        ax.text(x=j, y=i,s=conf_matrix[i, j], va='center', ha='center', size='xx-large')\n",
        " \n",
        "plt.xlabel('Predictions', fontsize=18)\n",
        "plt.ylabel('Actuals', fontsize=18)\n",
        "plt.title('Confusion Matrix', fontsize=18)\n",
        "plt.show()"
      ]
    },
    {
      "cell_type": "markdown",
      "source": [
        "After passing Class-weight:'balanced', Recall rate is improved from 0.24 to 0.74 but at the cost of misclassification of Not disputed samples as disputed."
      ],
      "metadata": {
        "id": "kJjfJFHMrXJ8"
      }
    },
    {
      "cell_type": "markdown",
      "source": [
        "**METHOD:3 Upsample using the imblearn pipeline**"
      ],
      "metadata": {
        "id": "RPKIW4NGukC7"
      }
    },
    {
      "cell_type": "code",
      "source": [
        "imba_pipeline = make_pipeline(SMOTE(random_state=42),DecisionTreeClassifier(random_state=100))\n",
        "cross_val_score(imba_pipeline, X_train, y_train, scoring='recall', cv=KFold(n_splits=5))"
      ],
      "metadata": {
        "colab": {
          "base_uri": "https://localhost:8080/"
        },
        "id": "SgXEK247NKXC",
        "outputId": "e7aea5bc-99cb-471f-f28a-3d469a6d1dd1"
      },
      "execution_count": 93,
      "outputs": [
        {
          "output_type": "execute_result",
          "data": {
            "text/plain": [
              "array([0.28085957, 0.27416288, 0.27568396, 0.2800523 , 0.27173107])"
            ]
          },
          "metadata": {},
          "execution_count": 93
        }
      ]
    },
    {
      "cell_type": "code",
      "source": [
        "new_params = {'decisiontreeclassifier__' + key: params[key] for key in params}\n",
        "grid_imba = GridSearchCV(imba_pipeline, param_grid=new_params, cv=KFold(n_splits=5), scoring='recall',\n",
        "                        return_train_score=True)\n",
        "grid_imba.fit(X_train, y_train);"
      ],
      "metadata": {
        "id": "CHaE_JE_Qik7"
      },
      "execution_count": 106,
      "outputs": []
    },
    {
      "cell_type": "code",
      "source": [
        "grid_imba.best_params_"
      ],
      "metadata": {
        "colab": {
          "base_uri": "https://localhost:8080/"
        },
        "id": "-m0s927MRGdK",
        "outputId": "367bf3b5-7ac0-455f-b74b-f2f398d3fc23"
      },
      "execution_count": 98,
      "outputs": [
        {
          "output_type": "execute_result",
          "data": {
            "text/plain": [
              "{'decisiontreeclassifier__criterion': 'gini',\n",
              " 'decisiontreeclassifier__max_depth': 2}"
            ]
          },
          "metadata": {},
          "execution_count": 98
        }
      ]
    },
    {
      "cell_type": "code",
      "source": [
        "grid_imba.best_score_"
      ],
      "metadata": {
        "colab": {
          "base_uri": "https://localhost:8080/"
        },
        "id": "QDmu3fjaRNsM",
        "outputId": "8ebff9c1-b664-40d4-d757-27f32a6a5e37"
      },
      "execution_count": 99,
      "outputs": [
        {
          "output_type": "execute_result",
          "data": {
            "text/plain": [
              "0.8411513435518494"
            ]
          },
          "metadata": {},
          "execution_count": 99
        }
      ]
    },
    {
      "cell_type": "code",
      "source": [
        "y_test_predict = grid_imba.predict(X_test)\n",
        "recall_score(y_test, y_test_predict)"
      ],
      "metadata": {
        "colab": {
          "base_uri": "https://localhost:8080/"
        },
        "id": "O8yG1jtaRUEy",
        "outputId": "46f620c0-90aa-4d3c-9741-46d67ca559ca"
      },
      "execution_count": 107,
      "outputs": [
        {
          "output_type": "execute_result",
          "data": {
            "text/plain": [
              "0.84438456988894"
            ]
          },
          "metadata": {},
          "execution_count": 107
        }
      ]
    },
    {
      "cell_type": "code",
      "source": [
        "test_df.shape"
      ],
      "metadata": {
        "colab": {
          "base_uri": "https://localhost:8080/"
        },
        "id": "2CmzyCdlcEw0",
        "outputId": "6738da0b-85b6-49bf-94cb-b849547e04ce"
      },
      "execution_count": 114,
      "outputs": [
        {
          "output_type": "execute_result",
          "data": {
            "text/plain": [
              "(119606, 17)"
            ]
          },
          "metadata": {},
          "execution_count": 114
        }
      ]
    },
    {
      "cell_type": "code",
      "source": [
        "predictions=grid_imba.predict(test_copy_df)\n",
        "df = pd.DataFrame(predictions, columns=[\"predictions\"])\n",
        "df['predictions']=df['predictions'].map({0:'No',1:'Yes'})\n",
        "df.to_csv('predictions.csv', index=False)"
      ],
      "metadata": {
        "id": "m9TBYdPAZVPD"
      },
      "execution_count": 115,
      "outputs": []
    },
    {
      "cell_type": "code",
      "source": [
        "print(classification_report(y_test,y_test_predict))\n",
        "conf_matrix=confusion_matrix(y_true=y_test, y_pred=predictions)\n",
        "fig, ax = plt.subplots(figsize=(5, 5))\n",
        "ax.matshow(conf_matrix, cmap=plt.cm.Oranges, alpha=0.3)\n",
        "for i in range(conf_matrix.shape[0]):\n",
        "    for j in range(conf_matrix.shape[1]):\n",
        "        ax.text(x=j, y=i,s=conf_matrix[i, j], va='center', ha='center', size='xx-large')\n",
        " \n",
        "plt.xlabel('Predictions', fontsize=18)\n",
        "plt.ylabel('Actuals', fontsize=18)\n",
        "plt.title('Confusion Matrix', fontsize=18)\n",
        "plt.show()"
      ],
      "metadata": {
        "colab": {
          "base_uri": "https://localhost:8080/",
          "height": 521
        },
        "id": "C54fxdvPSu4T",
        "outputId": "062b3bac-99a6-4cd8-f2f0-107d2ddda0e9"
      },
      "execution_count": 108,
      "outputs": [
        {
          "output_type": "stream",
          "name": "stdout",
          "text": [
            "              precision    recall  f1-score   support\n",
            "\n",
            "           0       0.86      0.26      0.40     56523\n",
            "           1       0.24      0.84      0.37     15217\n",
            "\n",
            "    accuracy                           0.39     71740\n",
            "   macro avg       0.55      0.55      0.39     71740\n",
            "weighted avg       0.73      0.39      0.40     71740\n",
            "\n"
          ]
        },
        {
          "output_type": "display_data",
          "data": {
            "image/png": "[encoded data removed]",
            "text/plain": [
              "<Figure size 360x360 with 1 Axes>"
            ]
          },
          "metadata": {
            "needs_background": "light"
          }
        }
      ]
    },
    {
      "cell_type": "markdown",
      "source": [
        "As per the given problem Statement in Project pdf document, **considering to improve recall score as its critical to predict disputed records** to improve Company reputation.<br>\n",
        "\"Predicting whether a complaint resolution will be accepted or rejected by a consumer can\n",
        "enable a business to proactively look at complaints which might be disputed and hence save\n",
        "unnecessary escalation as well as their reputation. Systemic issues can be identified by noticing\n",
        "which complaints have a higher potential to be disputed, and customer support agents can be\n",
        "trained to pay more attention or enhance the quality of communication for certain types of\n",
        "complaints.\""
      ],
      "metadata": {
        "id": "KOvfu_R3TH7R"
      }
    },
    {
      "cell_type": "markdown",
      "source": [
        "**Conclusion:**"
      ],
      "metadata": {
        "id": "hu5RsJAPVuqa"
      }
    },
    {
      "cell_type": "markdown",
      "source": [
        "Method | Recall Score (Training data) | Recall Score (Test data)\n",
        "--- | --- | ---\n",
        "No upsampling (baseline) | 24% | 24%\n",
        "Balancing Weights for 2 classes| 74% | 74%\n",
        "Upsample as part of CV(pipeline) | 84% | 84%"
      ],
      "metadata": {
        "id": "9iS5oEPsX-S9"
      }
    }
  ],
  "metadata": {
    "colab": {
      "name": "Disputed OR not.ipynb",
      "provenance": [],
      "collapsed_sections": [],
      "mount_file_id": "19CpHUxz1xGYxg4brLgmZL4Fqyl3ImQUX",
      "authorship_tag": "ABX9TyMfEppm3X3RTrg6HoDGOV6t",
      "include_colab_link": true
    },
    "kernelspec": {
      "display_name": "Python 3",
      "name": "python3"
    },
    "language_info": {
      "name": "python"
    }
  },
  "nbformat": 4,
  "nbformat_minor": 0
}